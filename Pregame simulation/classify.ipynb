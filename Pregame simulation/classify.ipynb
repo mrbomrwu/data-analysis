{
 "cells": [
  {
   "cell_type": "code",
   "execution_count": 1,
   "metadata": {},
   "outputs": [
    {
     "name": "stdout",
     "output_type": "stream",
     "text": [
      "交叉验证评分: [0.5 0.5]\n",
      "预测结果: [0 1 0 1]\n"
     ]
    }
   ],
   "source": [
    "import pandas as pd\n",
    "from sklearn.ensemble import RandomForestClassifier\n",
    "from sklearn.model_selection import cross_val_score, GridSearchCV\n",
    "from sklearn.preprocessing import PolynomialFeatures, StandardScaler\n",
    "\n",
    "# 示例数据\n",
    "data = pd.DataFrame({\n",
    "    '成分1': [1.0, 2.0, 3.0, 4.0],\n",
    "    '成分2': [2.0, 3.0, 4.0, 5.0],\n",
    "    '成分3': [3.0, 4.0, 5.0, 6.0],\n",
    "    '风化状态': [0, 1, 0, 1]\n",
    "})\n",
    "\n",
    "# 准备数据\n",
    "X = data[['成分1', '成分2', '成分3']]\n",
    "y = data['风化状态']\n",
    "\n",
    "# 多项式特征和特征缩放\n",
    "poly = PolynomialFeatures(degree=2)\n",
    "X_poly = poly.fit_transform(X)\n",
    "scaler = StandardScaler()\n",
    "X_scaled = scaler.fit_transform(X_poly)\n",
    "\n",
    "# 创建和训练模型\n",
    "model = RandomForestClassifier()\n",
    "param_grid = {'n_estimators': [50, 100, 200], 'max_depth': [None, 10, 20, 30]}\n",
    "grid_search = GridSearchCV(model, param_grid, cv=2)  # 将 cv 设置为 2\n",
    "grid_search.fit(X_scaled, y)\n",
    "best_model = grid_search.best_estimator_\n",
    "\n",
    "# 交叉验证评分\n",
    "scores = cross_val_score(best_model, X_scaled, y, cv=2)  # 将 cv 设置为 2\n",
    "print(\"交叉验证评分:\", scores)\n",
    "\n",
    "# 预测\n",
    "predictions = best_model.predict(X_scaled)\n",
    "print(\"预测结果:\", predictions)\n"
   ]
  }
 ],
 "metadata": {
  "kernelspec": {
   "display_name": "new_env",
   "language": "python",
   "name": "python3"
  },
  "language_info": {
   "codemirror_mode": {
    "name": "ipython",
    "version": 3
   },
   "file_extension": ".py",
   "mimetype": "text/x-python",
   "name": "python",
   "nbconvert_exporter": "python",
   "pygments_lexer": "ipython3",
   "version": "3.10.14"
  }
 },
 "nbformat": 4,
 "nbformat_minor": 2
}
