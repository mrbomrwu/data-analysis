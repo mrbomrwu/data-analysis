{
 "cells": [
  {
   "cell_type": "code",
   "execution_count": 32,
   "metadata": {},
   "outputs": [],
   "source": [
    "from sklearn.linear_model import Lasso, Ridge\n",
    "import numpy as np\n",
    "import random\n",
    "from sklearn.linear_model import SGDRegressor, LinearRegression\n",
    "import pandas as pd\n",
    "from sklearn.preprocessing import MinMaxScaler\n",
    "\n",
    "np.set_printoptions(suppress=True)"
   ]
  },
  {
   "cell_type": "code",
   "execution_count": 33,
   "metadata": {},
   "outputs": [],
   "source": [
    "# 加载数据\n",
    "file_path = r'C:\\Users\\海棠微雨\\Desktop\\数据处理\\高钾.xlsx'  # 数据文件路径\n",
    "df = pd.read_excel(file_path, sheet_name='Sheet1')  # 从Excel文件中加载数据，读取名为'表单1'的工作表\n",
    "\n",
    "# 将空值赋值为0\n",
    "df = df.fillna(0)\n",
    "# 提取特征矩阵X（去除第一列和最后一列）\n",
    "X = df.iloc[:, 1:-1].values\n",
    "\n",
    "# 提取标签y（最后一列）\n",
    "y = df.iloc[:, -1].values\n",
    "\n",
    "# 归一化特征矩阵X\n",
    "scaler = MinMaxScaler()\n",
    "X_normalized = scaler.fit_transform(X)\n"
   ]
  },
  {
   "cell_type": "markdown",
   "metadata": {},
   "source": [
    "套索回归,进行训练"
   ]
  },
  {
   "cell_type": "code",
   "execution_count": 40,
   "metadata": {},
   "outputs": [
    {
     "name": "stdout",
     "output_type": "stream",
     "text": [
      "Selected Features: Index(['二氧化硅(SiO2)', '氧化钠(Na2O)', '氧化钙(CaO)', '氧化铝(Al2O3)', '氧化锶(SrO)'], dtype='object')\n",
      "[17.10770302 -1.96133256  0.         10.55838839 -0.          8.67513759\n",
      " -0.          0.          0.          0.          0.          3.66567908\n",
      "  0.         -0.        ]\n",
      "80.83419412758354\n"
     ]
    }
   ],
   "source": [
    "#稀松性质,将一部分系数变成0\n",
    "lasso = Lasso(alpha=0.2)\n",
    "lasso.fit(X_normalized, y)\n",
    "\n",
    "# 输出非零系数对应的特征\n",
    "selected_features = df.columns[1:-1][lasso.coef_ != 0]\n",
    "print(\"Selected Features:\", selected_features)\n",
    "\n",
    "print(lasso.coef_)\n",
    "print(lasso.intercept_)"
   ]
  },
  {
   "cell_type": "markdown",
   "metadata": {},
   "source": [
    "随机梯度下降进行对比"
   ]
  },
  {
   "cell_type": "code",
   "execution_count": 41,
   "metadata": {},
   "outputs": [
    {
     "name": "stdout",
     "output_type": "stream",
     "text": [
      "[40.69594031  6.82891015 11.53056855  9.17600418  7.85749285 11.72543084\n",
      "  2.41409    12.49235252  2.76927488 -0.7356397   3.95058431  0.94232381\n",
      "  3.31273842 -0.22021751]\n",
      "[53.58452139]\n"
     ]
    }
   ],
   "source": [
    "sgd = SGDRegressor(penalty='l1', alpha=0)\n",
    "\n",
    "sgd.fit(X_normalized, y.ravel())\n",
    "print(sgd.coef_)\n",
    "print(sgd.intercept_)"
   ]
  },
  {
   "cell_type": "markdown",
   "metadata": {},
   "source": [
    "邻回归"
   ]
  },
  {
   "cell_type": "code",
   "execution_count": null,
   "metadata": {},
   "outputs": [],
   "source": [
    "ridge = Ridge()\n",
    "ridge.fit(X, y)\n",
    "print(ridge.coef_)\n",
    "print(ridge.intercept_)"
   ]
  },
  {
   "cell_type": "markdown",
   "metadata": {},
   "source": [
    "线性回归"
   ]
  },
  {
   "cell_type": "code",
   "execution_count": null,
   "metadata": {},
   "outputs": [],
   "source": [
    "model = LinearRegression()\n",
    "model.fit(X, y)\n",
    "print(model.coef_)\n",
    "print(model.intercept_)"
   ]
  },
  {
   "cell_type": "code",
   "execution_count": 30,
   "metadata": {},
   "outputs": [
    {
     "name": "stdout",
     "output_type": "stream",
     "text": [
      "Selected Features: Index(['二氧化硅(SiO2)', '氧化钠(Na2O)', '氧化钾(K2O)', '氧化钙(CaO)', '氧化铝(Al2O3)',\n",
      "       '氧化铜(CuO)', '氧化锶(SrO)', '氧化锡(SnO2)'],\n",
      "      dtype='object')\n"
     ]
    }
   ],
   "source": [
    "import numpy as np\n",
    "import pandas as pd\n",
    "from sklearn.preprocessing import MinMaxScaler\n",
    "from sklearn.linear_model import Lasso\n",
    "\n",
    "# 加载数据\n",
    "file_path = r'C:\\Users\\海棠微雨\\Desktop\\数据处理\\高钾.xlsx'  # 数据文件路径\n",
    "df = pd.read_excel(file_path, sheet_name='Sheet1')  # 从Excel文件中加载数据，读取名为'表单1'的工作表\n",
    "\n",
    "# 将空值赋值为0\n",
    "df = df.fillna(0)\n",
    "\n",
    "# 提取特征矩阵X（去除第一列和最后一列）\n",
    "X = df.iloc[:, 1:-1].values\n",
    "\n",
    "# 提取标签y（最后一列）\n",
    "y = df.iloc[:, -1].values\n",
    "\n",
    "# 归一化特征矩阵X\n",
    "scaler = MinMaxScaler()\n",
    "X_normalized = scaler.fit_transform(X)\n",
    "\n",
    "# 创建Lasso回归模型实例并拟合数据\n",
    "lasso = Lasso(alpha=0.125)\n",
    "lasso.fit(X_normalized, y)\n",
    "\n",
    "# 输出非零系数对应的特征\n",
    "selected_features = df.columns[1:-1][lasso.coef_ != 0]\n",
    "print(\"Selected Features:\", selected_features)\n"
   ]
  },
  {
   "cell_type": "code",
   "execution_count": 31,
   "metadata": {},
   "outputs": [
    {
     "name": "stdout",
     "output_type": "stream",
     "text": [
      "[20.93576574 -0.4704249   0.41909182 11.52195518 -0.         10.22045181\n",
      " -0.          1.57205925  0.          0.          0.          5.03372549\n",
      "  0.68322818 -0.        ]\n",
      "76.72445452799519\n"
     ]
    }
   ],
   "source": [
    "print(lasso.coef_)\n",
    "print(lasso.intercept_)"
   ]
  }
 ],
 "metadata": {
  "kernelspec": {
   "display_name": "new_env",
   "language": "python",
   "name": "python3"
  },
  "language_info": {
   "codemirror_mode": {
    "name": "ipython",
    "version": 3
   },
   "file_extension": ".py",
   "mimetype": "text/x-python",
   "name": "python",
   "nbconvert_exporter": "python",
   "pygments_lexer": "ipython3",
   "version": "3.10.14"
  }
 },
 "nbformat": 4,
 "nbformat_minor": 2
}
