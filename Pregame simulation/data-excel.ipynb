{
 "cells": [
  {
   "cell_type": "code",
   "execution_count": 1,
   "metadata": {},
   "outputs": [],
   "source": [
    "import pandas as pd"
   ]
  },
  {
   "cell_type": "code",
   "execution_count": 14,
   "metadata": {},
   "outputs": [],
   "source": [
    "path = r\"C:/Users/海棠微雨/Desktop/2022年C题/附件.xlsx\"\n",
    "df_1 = pd.read_excel(path, sheet_name='表单1', dtype={'文物编号':str})  # 从Excel文件中加载数据，读取名为'表单1'的工作表\n",
    "df_2 = pd.read_excel(path, sheet_name='表单2', dtype={'文物编号':str})\n",
    "\n",
    "# 将空值赋值为0\n",
    "df_2 = df_2.fillna(0)"
   ]
  },
  {
   "cell_type": "code",
   "execution_count": 24,
   "metadata": {},
   "outputs": [],
   "source": [
    "# 筛选出类型为高钾并且表面风化为无风化的文物\n",
    "filtered_df = df_1[(df_1['类型'] == '高钾') & (df_1['表面风化'] == '无风化')]\n",
    "\n",
    "# 取出文物编号并存入列表\n",
    "artifact_ids = filtered_df['文物编号'].tolist()\n",
    "\n",
    "# 筛选出文物编号前两个字符为'01', '02', '21', '03'的行\n",
    "filtered_df = df_2[df_2['文物采样点'].str[:2].isin(artifact_ids)]\n"
   ]
  },
  {
   "cell_type": "code",
   "execution_count": 27,
   "metadata": {},
   "outputs": [],
   "source": [
    "# 将筛选出的数据保存到新的Excel文件中\n",
    "filtered_df.to_excel(r\"D:/Code/DATA-analysis\\data-analysis/Pregame simulation/高钾筛选结果.xlsx\", index=False)"
   ]
  }
 ],
 "metadata": {
  "kernelspec": {
   "display_name": "new_env",
   "language": "python",
   "name": "python3"
  },
  "language_info": {
   "codemirror_mode": {
    "name": "ipython",
    "version": 3
   },
   "file_extension": ".py",
   "mimetype": "text/x-python",
   "name": "python",
   "nbconvert_exporter": "python",
   "pygments_lexer": "ipython3",
   "version": "3.10.14"
  }
 },
 "nbformat": 4,
 "nbformat_minor": 2
}
