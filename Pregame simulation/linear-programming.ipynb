{
 "cells": [
  {
   "cell_type": "code",
   "execution_count": 7,
   "metadata": {},
   "outputs": [
    {
     "ename": "ValueError",
     "evalue": "Invalid input for linprog: A_ub must have exactly two dimensions, and the number of columns in A_ub must be equal to the size of c",
     "output_type": "error",
     "traceback": [
      "\u001b[1;31m---------------------------------------------------------------------------\u001b[0m",
      "\u001b[1;31mValueError\u001b[0m                                Traceback (most recent call last)",
      "Cell \u001b[1;32mIn[7], line 21\u001b[0m\n\u001b[0;32m     18\u001b[0m y_bounds \u001b[38;5;241m=\u001b[39m (\u001b[38;5;241m0\u001b[39m, \u001b[38;5;28;01mNone\u001b[39;00m)\n\u001b[0;32m     20\u001b[0m \u001b[38;5;66;03m# 调用linprog函数求解\u001b[39;00m\n\u001b[1;32m---> 21\u001b[0m result \u001b[38;5;241m=\u001b[39m \u001b[43mlinprog\u001b[49m\u001b[43m(\u001b[49m\u001b[43mc\u001b[49m\u001b[43m,\u001b[49m\u001b[43m \u001b[49m\u001b[43mA_ub\u001b[49m\u001b[38;5;241;43m=\u001b[39;49m\u001b[43mA\u001b[49m\u001b[43m,\u001b[49m\u001b[43m \u001b[49m\u001b[43mb_ub\u001b[49m\u001b[38;5;241;43m=\u001b[39;49m\u001b[43mb\u001b[49m\u001b[43m,\u001b[49m\u001b[43m \u001b[49m\u001b[43mbounds\u001b[49m\u001b[38;5;241;43m=\u001b[39;49m\u001b[43m[\u001b[49m\u001b[43mx_bounds\u001b[49m\u001b[43m,\u001b[49m\u001b[43m \u001b[49m\u001b[43my_bounds\u001b[49m\u001b[43m]\u001b[49m\u001b[43m,\u001b[49m\u001b[43m \u001b[49m\u001b[43mmethod\u001b[49m\u001b[38;5;241;43m=\u001b[39;49m\u001b[38;5;124;43m'\u001b[39;49m\u001b[38;5;124;43mhighs\u001b[39;49m\u001b[38;5;124;43m'\u001b[39;49m\u001b[43m)\u001b[49m\n\u001b[0;32m     23\u001b[0m \u001b[38;5;66;03m# 输出结果\u001b[39;00m\n\u001b[0;32m     24\u001b[0m \u001b[38;5;28;01mif\u001b[39;00m result\u001b[38;5;241m.\u001b[39msuccess:\n",
      "File \u001b[1;32md:\\Anaconda\\envs\\new_env\\lib\\site-packages\\scipy\\optimize\\_linprog.py:630\u001b[0m, in \u001b[0;36mlinprog\u001b[1;34m(c, A_ub, b_ub, A_eq, b_eq, bounds, method, callback, options, x0, integrality)\u001b[0m\n\u001b[0;32m    627\u001b[0m     integrality \u001b[38;5;241m=\u001b[39m np\u001b[38;5;241m.\u001b[39mbroadcast_to(integrality, np\u001b[38;5;241m.\u001b[39mshape(c))\n\u001b[0;32m    629\u001b[0m lp \u001b[38;5;241m=\u001b[39m _LPProblem(c, A_ub, b_ub, A_eq, b_eq, bounds, x0, integrality)\n\u001b[1;32m--> 630\u001b[0m lp, solver_options \u001b[38;5;241m=\u001b[39m \u001b[43m_parse_linprog\u001b[49m\u001b[43m(\u001b[49m\u001b[43mlp\u001b[49m\u001b[43m,\u001b[49m\u001b[43m \u001b[49m\u001b[43moptions\u001b[49m\u001b[43m,\u001b[49m\u001b[43m \u001b[49m\u001b[43mmeth\u001b[49m\u001b[43m)\u001b[49m\n\u001b[0;32m    631\u001b[0m tol \u001b[38;5;241m=\u001b[39m solver_options\u001b[38;5;241m.\u001b[39mget(\u001b[38;5;124m'\u001b[39m\u001b[38;5;124mtol\u001b[39m\u001b[38;5;124m'\u001b[39m, \u001b[38;5;241m1e-9\u001b[39m)\n\u001b[0;32m    633\u001b[0m \u001b[38;5;66;03m# Give unmodified problem to HiGHS\u001b[39;00m\n",
      "File \u001b[1;32md:\\Anaconda\\envs\\new_env\\lib\\site-packages\\scipy\\optimize\\_linprog_util.py:1026\u001b[0m, in \u001b[0;36m_parse_linprog\u001b[1;34m(lp, options, meth)\u001b[0m\n\u001b[0;32m   1023\u001b[0m solver_options, A_ub, A_eq \u001b[38;5;241m=\u001b[39m _check_sparse_inputs(solver_options, meth,\n\u001b[0;32m   1024\u001b[0m                                                   lp\u001b[38;5;241m.\u001b[39mA_ub, lp\u001b[38;5;241m.\u001b[39mA_eq)\n\u001b[0;32m   1025\u001b[0m \u001b[38;5;66;03m# Convert lists to numpy arrays, etc...\u001b[39;00m\n\u001b[1;32m-> 1026\u001b[0m lp \u001b[38;5;241m=\u001b[39m \u001b[43m_clean_inputs\u001b[49m\u001b[43m(\u001b[49m\u001b[43mlp\u001b[49m\u001b[38;5;241;43m.\u001b[39;49m\u001b[43m_replace\u001b[49m\u001b[43m(\u001b[49m\u001b[43mA_ub\u001b[49m\u001b[38;5;241;43m=\u001b[39;49m\u001b[43mA_ub\u001b[49m\u001b[43m,\u001b[49m\u001b[43m \u001b[49m\u001b[43mA_eq\u001b[49m\u001b[38;5;241;43m=\u001b[39;49m\u001b[43mA_eq\u001b[49m\u001b[43m)\u001b[49m\u001b[43m)\u001b[49m\n\u001b[0;32m   1027\u001b[0m \u001b[38;5;28;01mreturn\u001b[39;00m lp, solver_options\n",
      "File \u001b[1;32md:\\Anaconda\\envs\\new_env\\lib\\site-packages\\scipy\\optimize\\_linprog_util.py:320\u001b[0m, in \u001b[0;36m_clean_inputs\u001b[1;34m(lp)\u001b[0m\n\u001b[0;32m    318\u001b[0m n_ub \u001b[38;5;241m=\u001b[39m A_ub\u001b[38;5;241m.\u001b[39mshape[\u001b[38;5;241m0\u001b[39m]\n\u001b[0;32m    319\u001b[0m \u001b[38;5;28;01mif\u001b[39;00m \u001b[38;5;28mlen\u001b[39m(A_ub\u001b[38;5;241m.\u001b[39mshape) \u001b[38;5;241m!=\u001b[39m \u001b[38;5;241m2\u001b[39m \u001b[38;5;129;01mor\u001b[39;00m A_ub\u001b[38;5;241m.\u001b[39mshape[\u001b[38;5;241m1\u001b[39m] \u001b[38;5;241m!=\u001b[39m n_x:\n\u001b[1;32m--> 320\u001b[0m     \u001b[38;5;28;01mraise\u001b[39;00m \u001b[38;5;167;01mValueError\u001b[39;00m(\n\u001b[0;32m    321\u001b[0m         \u001b[38;5;124m\"\u001b[39m\u001b[38;5;124mInvalid input for linprog: A_ub must have exactly two \u001b[39m\u001b[38;5;124m\"\u001b[39m\n\u001b[0;32m    322\u001b[0m         \u001b[38;5;124m\"\u001b[39m\u001b[38;5;124mdimensions, and the number of columns in A_ub must be \u001b[39m\u001b[38;5;124m\"\u001b[39m\n\u001b[0;32m    323\u001b[0m         \u001b[38;5;124m\"\u001b[39m\u001b[38;5;124mequal to the size of c\u001b[39m\u001b[38;5;124m\"\u001b[39m)\n\u001b[0;32m    324\u001b[0m \u001b[38;5;28;01mif\u001b[39;00m (sps\u001b[38;5;241m.\u001b[39missparse(A_ub) \u001b[38;5;129;01mand\u001b[39;00m \u001b[38;5;129;01mnot\u001b[39;00m np\u001b[38;5;241m.\u001b[39misfinite(A_ub\u001b[38;5;241m.\u001b[39mdata)\u001b[38;5;241m.\u001b[39mall()\n\u001b[0;32m    325\u001b[0m         \u001b[38;5;129;01mor\u001b[39;00m \u001b[38;5;129;01mnot\u001b[39;00m sps\u001b[38;5;241m.\u001b[39missparse(A_ub) \u001b[38;5;129;01mand\u001b[39;00m \u001b[38;5;129;01mnot\u001b[39;00m np\u001b[38;5;241m.\u001b[39misfinite(A_ub)\u001b[38;5;241m.\u001b[39mall()):\n\u001b[0;32m    326\u001b[0m     \u001b[38;5;28;01mraise\u001b[39;00m \u001b[38;5;167;01mValueError\u001b[39;00m(\n\u001b[0;32m    327\u001b[0m         \u001b[38;5;124m\"\u001b[39m\u001b[38;5;124mInvalid input for linprog: A_ub must not contain values \u001b[39m\u001b[38;5;124m\"\u001b[39m\n\u001b[0;32m    328\u001b[0m         \u001b[38;5;124m\"\u001b[39m\u001b[38;5;124minf, nan, or None\u001b[39m\u001b[38;5;124m\"\u001b[39m)\n",
      "\u001b[1;31mValueError\u001b[0m: Invalid input for linprog: A_ub must have exactly two dimensions, and the number of columns in A_ub must be equal to the size of c"
     ]
    }
   ],
   "source": [
    "import numpy as np\n",
    "from scipy.optimize import linprog\n",
    "\n",
    "# 目标函数的系数（求最大化时需要取负）\n",
    "c = [-1, -1]\n",
    "\n",
    "# 不等式约束的系数矩阵\n",
    "A = [\n",
    "    [-5/3],    # x1 - x2 <= 0\n",
    "    [-5/3]    # 50x1 + 20x2 <= 2000\n",
    "]\n",
    "\n",
    "# 不等式约束的常数项\n",
    "b = [0, -5.64]\n",
    "\n",
    "# 变量的取值范围\n",
    "x_bounds = (0, None)\n",
    "y_bounds = (0, None)\n",
    "\n",
    "# 调用linprog函数求解\n",
    "result = linprog(c, A_ub=A, b_ub=b, bounds=[x_bounds, y_bounds], method='highs')\n",
    "\n",
    "# 输出结果\n",
    "if result.success:\n",
    "    print(f\"最优解：桌子数量 = {result.x[0]:.0f}, 椅子数量 = {result.x[1]:.0f}\")\n",
    "    print(f\"最大化的总数 = {-result.fun:.0f}\")\n",
    "else:\n",
    "    print(\"没有找到最优解\")\n"
   ]
  },
  {
   "cell_type": "code",
   "execution_count": 10,
   "metadata": {},
   "outputs": [
    {
     "ename": "NameError",
     "evalue": "name 'scores' is not defined",
     "output_type": "error",
     "traceback": [
      "\u001b[1;31m---------------------------------------------------------------------------\u001b[0m",
      "\u001b[1;31mNameError\u001b[0m                                 Traceback (most recent call last)",
      "Cell \u001b[1;32mIn[10], line 13\u001b[0m\n\u001b[0;32m     10\u001b[0m suppliers \u001b[38;5;241m=\u001b[39m df\u001b[38;5;241m.\u001b[39miloc[:, \u001b[38;5;241m0\u001b[39m]\u001b[38;5;241m.\u001b[39mvalues\n\u001b[0;32m     12\u001b[0m \u001b[38;5;66;03m# 获取评分排名前50的结果\u001b[39;00m\n\u001b[1;32m---> 13\u001b[0m top_50_indices \u001b[38;5;241m=\u001b[39m np\u001b[38;5;241m.\u001b[39margsort(\u001b[43mscores\u001b[49m)[::\u001b[38;5;241m-\u001b[39m\u001b[38;5;241m1\u001b[39m][:\u001b[38;5;241m50\u001b[39m]\n\u001b[0;32m     14\u001b[0m top_50_scores \u001b[38;5;241m=\u001b[39m scores[top_50_indices]\n\u001b[0;32m     15\u001b[0m \u001b[38;5;66;03m# 假设前50家供应商的ID已经存储在一个列表中\u001b[39;00m\n",
      "\u001b[1;31mNameError\u001b[0m: name 'scores' is not defined"
     ]
    }
   ],
   "source": [
    "import numpy as np\n",
    "import pandas as pd\n",
    "from scipy.optimize import linprog\n",
    "\n",
    "# 读取数据\n",
    "path = r\"C:/Users/海棠微雨/Desktop/cumcm2021c/C/附件1 近5年402家供应商的相关数据.xlsx\"\n",
    "df = pd.read_excel(path, sheet_name='供应商的供货量（m³）')\n",
    "\n",
    "# 假设前50家供应商的ID已经存储在一个列表中\n",
    "top_50_suppliers = suppliers[top_50_indices]  # 这里填入前50家供应商的ID\n",
    "\n",
    "# 过滤出前50家供应商的数据\n",
    "df_top_50 = df[df['供应商ID'].isin(top_50_suppliers)]\n",
    "\n",
    "# 提取A、B、C类材料的供货量数据\n",
    "data_A = df_top_50[df_top_50['材料分类'] == 'A'].iloc[:, 2:].values\n",
    "data_B = df_top_50[df_top_50['材料分类'] == 'B'].iloc[:, 2:].values\n",
    "data_C = df_top_50[df_top_50['材料分类'] == 'C'].iloc[:, 2:].values\n",
    "\n",
    "# 目标函数：最小化总供应商数量\n",
    "c = np.ones(data_A.shape[0] + data_B.shape[0] + data_C.shape[0])\n",
    "\n",
    "# 约束条件：x/0.6 + y/0.66 + z/0.72 > 5.64\n",
    "A_ub = np.zeros((1, c.size))\n",
    "A_ub[0, :data_A.shape[0]] = 1 / 0.6\n",
    "A_ub[0, data_A.shape[0]:data_A.shape[0] + data_B.shape[0]] = 1 / 0.66\n",
    "A_ub[0, data_A.shape[0] + data_B.shape[0]:] = 1 / 0.72\n",
    "b_ub = [-5.64 * 10000]  # 转换为立方米\n",
    "\n",
    "# 变量的取值范围\n",
    "bounds = [(0, None) for _ in range(c.size)]\n",
    "\n",
    "# 调用linprog函数求解\n",
    "result = linprog(c, A_ub=A_ub, b_ub=b_ub, bounds=bounds, method='highs')\n",
    "\n",
    "# 输出结果\n",
    "if result.success:\n",
    "    print(\"最优解：\")\n",
    "    for i, x in enumerate(result.x):\n",
    "        if x > 0:\n",
    "            if i < data_A.shape[0]:\n",
    "                supplier = df_top_50[df_top_50['材料分类'] == 'A'].iloc[i, 0]\n",
    "            elif i < data_A.shape[0] + data_B.shape[0]:\n",
    "                supplier = df_top_50[df_top_50['材料分类'] == 'B'].iloc[i - data_A.shape[0], 0]\n",
    "            else:\n",
    "                supplier = df_top_50[df_top_50['材料分类'] == 'C'].iloc[i - data_A.shape[0] - data_B.shape[0], 0]\n",
    "            print(f\"{supplier}: {x:.2f} 立方米\")\n",
    "    print(f\"满足需求的最小供应商数量 = {np.sum(result.x > 0)}\")\n",
    "else:\n",
    "    print(\"没有找到最优解\")\n"
   ]
  }
 ],
 "metadata": {
  "kernelspec": {
   "display_name": "new_env",
   "language": "python",
   "name": "python3"
  },
  "language_info": {
   "codemirror_mode": {
    "name": "ipython",
    "version": 3
   },
   "file_extension": ".py",
   "mimetype": "text/x-python",
   "name": "python",
   "nbconvert_exporter": "python",
   "pygments_lexer": "ipython3",
   "version": "3.10.14"
  }
 },
 "nbformat": 4,
 "nbformat_minor": 2
}
