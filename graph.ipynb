{
 "cells": [
  {
   "cell_type": "code",
   "execution_count": 10,
   "metadata": {},
   "outputs": [],
   "source": [
    "import matplotlib.pyplot as plt\n",
    "import pandas as pd\n",
    "import matplotlib.font_manager as fm\n",
    "\n",
    "# 设置中文字体\n",
    "plt.rcParams['font.sans-serif'] = ['SimHei']  # 使用黑体字体\n",
    "plt.rcParams['axes.unicode_minus'] = False  # 解决负号显示问题\n"
   ]
  },
  {
   "cell_type": "code",
   "execution_count": 11,
   "metadata": {},
   "outputs": [],
   "source": [
    "df = pd.read_excel(\n",
    "    'C:/Users/海棠微雨/Desktop/C题/附件1.xlsx',\n",
    "    sheet_name='Sheet1',\n",
    "    header=0,  # 第一行作为列名\n",
    "    usecols='A:D',  # 读取 A 到 D 列\n",
    "    index_col=None,  # 第一列作为行索引\n",
    "    skiprows=0,  # 不跳过\n",
    "    nrows=None  # 读取所有 行\n",
    ")"
   ]
  },
  {
   "cell_type": "code",
   "execution_count": 12,
   "metadata": {},
   "outputs": [],
   "source": [
    "df1 = pd.read_excel(\n",
    "    'C:/Users/海棠微雨/Desktop/C题/附件2.xlsx',\n",
    "    sheet_name='Sheet1',\n",
    "    header=0,  # 第一行作为列名\n",
    "    usecols='A:G',  # 读取 A 到 D 列\n",
    "    index_col=None,  # 第一列作为行索引\n",
    "    skiprows=0,  # 不跳过\n",
    "    nrows=None  # 读取所有 行\n",
    ")"
   ]
  },
  {
   "cell_type": "code",
   "execution_count": 13,
   "metadata": {},
   "outputs": [],
   "source": [
    "encoder = df['单品编码']\n",
    "name = df['分类名称']\n",
    "# 使用 zip() 函数将两个列表合并为一个字典\n",
    "my_dict = dict(zip(encoder, name))"
   ]
  },
  {
   "cell_type": "code",
   "execution_count": 14,
   "metadata": {},
   "outputs": [],
   "source": [
    "encoder1 = df1['单品编码']\n",
    "sales_date = df1['销售日期']\n",
    "Sales_status = df1['销售类型']\n",
    "Sales_kg = df1['销量(千克)']\n",
    "length = len(encoder1)"
   ]
  },
  {
   "cell_type": "code",
   "execution_count": 18,
   "metadata": {},
   "outputs": [],
   "source": [
    "def creat_dict(j, List, x):\n",
    "    dict = {}\n",
    "    seen = set()\n",
    "    for i in List:\n",
    "        Key = str(i)\n",
    "        if Key[:j] not in seen:\n",
    "            dict[Key[:j]] = x  # 你可以把对应的值设置为任意值\n",
    "            seen.add(Key[:j])\n",
    "    return dict"
   ]
  },
  {
   "cell_type": "code",
   "execution_count": 45,
   "metadata": {},
   "outputs": [],
   "source": [
    "dict = creat_dict(7, sales_date, [])\n",
    "s = ['一', '二', '三', '四', '五', '六', '七', '八', '九', '十', '十一', '十二']\n",
    "dict1 = creat_dict(1, s, None)\n",
    "count = 0\n",
    "for i in range(length):\n",
    "    if Sales_status[i] == '销售':\n",
    "        dict[str(sales_date[i])[:7]].append([my_dict[encoder1[i]], Sales_kg[i] ,1])\n",
    "    elif Sales_status[i] == '退货':\n",
    "        dict[str(sales_date[i])[:7]].append([my_dict[encoder1[i]], Sales_kg[i] ,0])\n"
   ]
  },
  {
   "cell_type": "code",
   "execution_count": 43,
   "metadata": {},
   "outputs": [
    {
     "name": "stdout",
     "output_type": "stream",
     "text": [
      "{'一': None, '二': None, '三': None, '四': None, '五': None, '六': None, '七': None, '八': None, '九': None, '十': None}\n",
      "{'一': np.float64(1412927.7539996246), '二': np.float64(1412927.7539996246), '三': np.float64(1412927.7539996246), '四': np.float64(1412927.7539996246), '五': np.float64(1412927.7539996246), '六': np.float64(1412927.7539996246), '七': np.float64(1412927.7539996246), '八': np.float64(1412927.7539996246), '九': np.float64(1412927.7539996246), '十': np.float64(1412927.7539996246), '十一': np.float64(1412927.7539996246), '十二': np.float64(1412927.7539996246)}\n"
     ]
    }
   ],
   "source": [
    "All_Sales = 0\n",
    "Num = 0\n",
    "sead = -1\n",
    "for i in dict.keys():\n",
    "    for j in dict[i]:\n",
    "        All_Sales += j[1]\n",
    "    Num += 1\n",
    "    if Num == 3:\n",
    "        sead += 1\n",
    "        Num = 0\n",
    "        dict1[s[sead]] = All_Sales\n",
    "        All_Sales = 0\n",
    "print(dict1)\n"
   ]
  },
  {
   "cell_type": "code",
   "execution_count": null,
   "metadata": {},
   "outputs": [],
   "source": []
  }
 ],
 "metadata": {
  "kernelspec": {
   "display_name": "py311",
   "language": "python",
   "name": "python3"
  },
  "language_info": {
   "codemirror_mode": {
    "name": "ipython",
    "version": 3
   },
   "file_extension": ".py",
   "mimetype": "text/x-python",
   "name": "python",
   "nbconvert_exporter": "python",
   "pygments_lexer": "ipython3",
   "version": "3.11.9"
  }
 },
 "nbformat": 4,
 "nbformat_minor": 2
}
