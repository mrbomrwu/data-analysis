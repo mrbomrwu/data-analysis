{
 "cells": [
  {
   "cell_type": "code",
   "execution_count": 189,
   "metadata": {},
   "outputs": [],
   "source": [
    "from sklearn.linear_model import Lasso, Ridge\n",
    "import numpy as np\n",
    "import random\n",
    "from sklearn.linear_model import SGDRegressor, LinearRegression\n",
    "import pandas as pd\n",
    "\n",
    "np.set_printoptions(suppress=True)"
   ]
  },
  {
   "cell_type": "code",
   "execution_count": 181,
   "metadata": {},
   "outputs": [],
   "source": [
    "# 加载数据\n",
    "file_path = r'C:\\Users\\海棠微雨\\Desktop\\数据处理\\高钾.xlsx'  # 数据文件路径\n",
    "df = pd.read_excel(file_path, sheet_name='Sheet1')  # 从Excel文件中加载数据，读取名为'表单1'的工作表\n",
    "\n",
    "# 将空值赋值为0\n",
    "df = df.fillna(0)\n",
    "X = np.array([row[1:-1] for row in df.values.tolist()])\n",
    "# 提取最后一列的数据，并存储到y中\n",
    "y = np.array(df.iloc[:, -1].values.tolist())\n"
   ]
  },
  {
   "cell_type": "code",
   "execution_count": 204,
   "metadata": {},
   "outputs": [
    {
     "name": "stdout",
     "output_type": "stream",
     "text": [
      "Selected Features: Index(['二氧化硅(SiO2)', '氧化钾(K2O)', '氧化钙(CaO)', '氧化镁(MgO)', '氧化铝(Al2O3)',\n",
      "       '氧化铜(CuO)', '氧化铅(PbO)', '氧化钡(BaO)', '五氧化二磷(P2O5)', '氧化锶(SrO)',\n",
      "       '氧化锡(SnO2)'],\n",
      "      dtype='object')\n"
     ]
    }
   ],
   "source": [
    "import numpy as np\n",
    "import pandas as pd\n",
    "from sklearn.preprocessing import StandardScaler\n",
    "from sklearn.linear_model import Lasso\n",
    "\n",
    "# 加载数据\n",
    "file_path = r'C:\\Users\\海棠微雨\\Desktop\\数据处理\\高钾.xlsx'  # 数据文件路径\n",
    "df = pd.read_excel(file_path, sheet_name='Sheet1')  # 从Excel文件中加载数据，读取名为'表单1'的工作表\n",
    "\n",
    "# 将空值赋值为0\n",
    "df = df.fillna(0)\n",
    "\n",
    "# 提取特征矩阵X（去除第一列和最后一列）\n",
    "X = df.iloc[:, 1:-1].values\n",
    "\n",
    "# 提取标签y（最后一列）\n",
    "y = df.iloc[:, -1].values\n",
    "\n",
    "# 标准化特征矩阵X\n",
    "scaler = StandardScaler()\n",
    "X_scaled = scaler.fit_transform(X)\n",
    "\n",
    "# 创建Lasso回归模型实例并拟合数据\n",
    "lasso = Lasso(alpha=0.1)\n",
    "lasso.fit(X_scaled, y)\n",
    "\n",
    "# 输出非零系数对应的特征\n",
    "selected_features = df.columns[1:-1][lasso.coef_ != 0]\n",
    "print(\"Selected Features:\", selected_features)\n"
   ]
  },
  {
   "cell_type": "markdown",
   "metadata": {},
   "source": [
    "套索回归,进行训练"
   ]
  },
  {
   "cell_type": "code",
   "execution_count": 205,
   "metadata": {},
   "outputs": [
    {
     "name": "stdout",
     "output_type": "stream",
     "text": [
      "[ 0.85478041  0.01246547  0.8814767   0.86037758 -0.          1.3184388\n",
      "  0.75353762  0.82527369  0.          0.8810002   0.30267614  0.\n",
      "  0.78252869 -0.        ]\n",
      "13.898534836064186\n"
     ]
    }
   ],
   "source": [
    "#稀松性质,将一部分系数变成0\n",
    "lasso = Lasso(alpha=0.1)\n",
    "lasso.fit(X, y)\n",
    "print(lasso.coef_)\n",
    "print(lasso.intercept_)"
   ]
  },
  {
   "cell_type": "markdown",
   "metadata": {},
   "source": [
    "随机梯度下降进行对比"
   ]
  },
  {
   "cell_type": "code",
   "execution_count": null,
   "metadata": {},
   "outputs": [],
   "source": [
    "sgd = SGDRegressor(penalty='l1', alpha=0)\n",
    "\n",
    "sgd.fit(X, y.ravel())\n",
    "print(sgd.coef_)\n",
    "print(sgd.intercept_)"
   ]
  },
  {
   "cell_type": "markdown",
   "metadata": {},
   "source": [
    "邻回归"
   ]
  },
  {
   "cell_type": "code",
   "execution_count": 190,
   "metadata": {},
   "outputs": [
    {
     "name": "stdout",
     "output_type": "stream",
     "text": [
      "[ 0.90820343  0.36597015  0.92818517  0.92494765  0.24105152  1.16879315\n",
      "  0.85998316  0.91981311  0.65332345  0.81640075  0.683147    0.03296329\n",
      "  0.97236073 -0.12835811]\n",
      "8.768847675382375\n"
     ]
    }
   ],
   "source": [
    "ridge = Ridge()\n",
    "ridge.fit(X, y)\n",
    "print(ridge.coef_)\n",
    "print(ridge.intercept_)"
   ]
  },
  {
   "cell_type": "markdown",
   "metadata": {},
   "source": [
    "线性回归"
   ]
  },
  {
   "cell_type": "code",
   "execution_count": 187,
   "metadata": {},
   "outputs": [
    {
     "name": "stdout",
     "output_type": "stream",
     "text": [
      "[1. 1. 1. 1. 1. 1. 1. 1. 1. 1. 1. 1. 1. 1.]\n",
      "9.663381206337363e-13\n"
     ]
    }
   ],
   "source": [
    "model = LinearRegression()\n",
    "model.fit(X, y)\n",
    "print(model.coef_)\n",
    "print(model.intercept_)"
   ]
  }
 ],
 "metadata": {
  "kernelspec": {
   "display_name": "new_env",
   "language": "python",
   "name": "python3"
  },
  "language_info": {
   "codemirror_mode": {
    "name": "ipython",
    "version": 3
   },
   "file_extension": ".py",
   "mimetype": "text/x-python",
   "name": "python",
   "nbconvert_exporter": "python",
   "pygments_lexer": "ipython3",
   "version": "3.10.14"
  }
 },
 "nbformat": 4,
 "nbformat_minor": 2
}
