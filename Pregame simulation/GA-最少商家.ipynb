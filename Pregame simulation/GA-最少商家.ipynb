{
 "cells": [
  {
   "cell_type": "code",
   "execution_count": null,
   "metadata": {},
   "outputs": [],
   "source": [
    "# 假设我们有50个数据\n",
    "target_sum = 6568000  # 目标值"
   ]
  },
  {
   "cell_type": "markdown",
   "metadata": {},
   "source": [
    "最优的一份"
   ]
  },
  {
   "cell_type": "code",
   "execution_count": 3,
   "metadata": {},
   "outputs": [
    {
     "name": "stderr",
     "output_type": "stream",
     "text": [
      "d:\\Anaconda\\envs\\new_env\\lib\\site-packages\\deap\\creator.py:185: RuntimeWarning: A class named 'FitnessMin' has already been created and it will be overwritten. Consider deleting previous creation of that class or rename it.\n",
      "  warnings.warn(\"A class named '{0}' has already been created and it \"\n",
      "d:\\Anaconda\\envs\\new_env\\lib\\site-packages\\deap\\creator.py:185: RuntimeWarning: A class named 'Individual' has already been created and it will be overwritten. Consider deleting previous creation of that class or rename it.\n",
      "  warnings.warn(\"A class named '{0}' has already been created and it \"\n"
     ]
    },
    {
     "name": "stdout",
     "output_type": "stream",
     "text": [
      "gen\tnevals\n",
      "0  \t300   \n",
      "1  \t187   \n",
      "2  \t177   \n",
      "3  \t179   \n",
      "4  \t181   \n",
      "5  \t188   \n",
      "6  \t169   \n",
      "7  \t187   \n",
      "8  \t154   \n",
      "9  \t198   \n",
      "10 \t174   \n",
      "11 \t178   \n",
      "12 \t199   \n",
      "13 \t184   \n",
      "14 \t183   \n",
      "15 \t161   \n",
      "16 \t195   \n",
      "17 \t179   \n",
      "18 \t186   \n",
      "19 \t162   \n",
      "20 \t180   \n",
      "21 \t182   \n",
      "22 \t173   \n",
      "23 \t172   \n",
      "24 \t178   \n",
      "25 \t173   \n",
      "26 \t193   \n",
      "27 \t179   \n",
      "28 \t186   \n",
      "29 \t188   \n",
      "30 \t192   \n",
      "31 \t178   \n",
      "32 \t178   \n",
      "33 \t177   \n",
      "34 \t184   \n",
      "35 \t146   \n",
      "36 \t194   \n",
      "37 \t189   \n",
      "38 \t173   \n",
      "39 \t178   \n",
      "40 \t181   \n",
      "41 \t166   \n",
      "42 \t191   \n",
      "43 \t178   \n",
      "44 \t172   \n",
      "45 \t171   \n",
      "46 \t188   \n",
      "47 \t177   \n",
      "48 \t168   \n",
      "49 \t183   \n",
      "50 \t185   \n",
      "最优解： [1, 1, 1, 1, 1, 1, 1, 1, 1, 1, 0, 0, 0, 0, 0, 0, 0, 1, 1, 1, 1, 1, 1, 1, 1, 1, 1, 0, 0, 1, 0, 1, 1, 1, 1, 1, 1, 1, 1, 1, 1, 1, 0, 1, 0, 0, 1, 0, 0, 0]\n",
      "最优解的总供货量： 6203866.792929292\n",
      "使用的商家数量： 34\n"
     ]
    }
   ],
   "source": [
    "import pandas as pd\n",
    "from deap import base, creator, tools, algorithms\n",
    "import random\n",
    "import matplotlib.pyplot as plt\n",
    "\n",
    "# 读取数据\n",
    "file_path = \"C:/Users/海棠微雨/Desktop/cumcm2021c/C/前50家商家供货量(2).xlsx\"\n",
    "data = pd.read_excel(file_path)\n",
    "supplies = list(data['5年总产值'])\n",
    "\n",
    "# 定义适应度函数\n",
    "def evalSupply(individual, supplies):\n",
    "     total_sum = sum(ind * supply for ind, supply in zip(individual, supplies))\n",
    "    \n",
    "     # 如果总和小于600万，返回一个高惩罚值以降低该个体的适应度\n",
    "     if total_sum < 6200000:\n",
    "        return 1000000 + (6400000 - total_sum),\n",
    "    \n",
    "     # 返回选择的数目的个数作为适应度值（越少越好）\n",
    "     return sum(individual),\n",
    "\n",
    "# 定义遗传算法\n",
    "def genetic_algorithm(supplies):\n",
    "    # 初始化DEAP的基本设置\n",
    "    creator.create(\"FitnessMin\", base.Fitness, weights=(-1.0,))\n",
    "    creator.create(\"Individual\", list, fitness=creator.FitnessMin)\n",
    "    toolbox = base.Toolbox()\n",
    "    \n",
    "    # 二进制编码\n",
    "    toolbox.register(\"attr_bool\", random.randint, 0, 1)\n",
    "    toolbox.register(\"individual\", tools.initRepeat, creator.Individual, toolbox.attr_bool, len(supplies))\n",
    "    toolbox.register(\"population\", tools.initRepeat, list, toolbox.individual)\n",
    "    \n",
    "    # 注册适应度函数\n",
    "    toolbox.register(\"evaluate\", evalSupply, supplies=supplies)\n",
    "    toolbox.register(\"mate\", tools.cxTwoPoint)\n",
    "    toolbox.register(\"mutate\", tools.mutFlipBit, indpb=0.05)\n",
    "    toolbox.register(\"select\", tools.selTournament, tournsize=3)\n",
    "    \n",
    "    # 初始化种群\n",
    "    population = toolbox.population(n=300)\n",
    "    \n",
    "    # 使用遗传算法进行优化\n",
    "    algorithms.eaSimple(population, toolbox, cxpb=0.5, mutpb=0.2, ngen=50, verbose=True)\n",
    "    \n",
    "    # 返回最优解\n",
    "    best_individual = tools.selBest(population, k=1)[0]\n",
    "    return best_individual, sum(best_individual[i] * supplies[i] for i in range(len(supplies)))\n",
    "\n",
    "# 运行遗传算法\n",
    "best_individual, best_sum = genetic_algorithm(supplies)\n",
    "\n",
    "# 打印结果\n",
    "print(\"最优解：\", best_individual)\n",
    "print(\"最优解的总供货量：\", best_sum)\n",
    "print(\"使用的商家数量：\", sum(best_individual))\n"
   ]
  }
 ],
 "metadata": {
  "kernelspec": {
   "display_name": "new_env",
   "language": "python",
   "name": "python3"
  },
  "language_info": {
   "codemirror_mode": {
    "name": "ipython",
    "version": 3
   },
   "file_extension": ".py",
   "mimetype": "text/x-python",
   "name": "python",
   "nbconvert_exporter": "python",
   "pygments_lexer": "ipython3",
   "version": "3.10.14"
  }
 },
 "nbformat": 4,
 "nbformat_minor": 2
}
