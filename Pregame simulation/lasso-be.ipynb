{
 "cells": [
  {
   "cell_type": "code",
   "execution_count": 127,
   "metadata": {},
   "outputs": [],
   "source": [
    "from sklearn.linear_model import Lasso, Ridge\n",
    "import numpy as np\n",
    "import random\n",
    "from sklearn.linear_model import SGDRegressor, LinearRegression,ElasticNet\n",
    "import pandas as pd\n",
    "from sklearn.preprocessing import MinMaxScaler\n",
    "from sklearn.model_selection import cross_val_score, train_test_split\n",
    "import math\n",
    "\n",
    "np.set_printoptions(suppress=True)"
   ]
  },
  {
   "cell_type": "code",
   "execution_count": 128,
   "metadata": {},
   "outputs": [],
   "source": [
    "# 加载数据\n",
    "file_path = r'C:\\Users\\海棠微雨\\Desktop\\数据处理\\铅钡.xlsx'  # 数据文件路径\n",
    "df = pd.read_excel(file_path, sheet_name='Sheet1')  # 从Excel文件中加载数据，读取名为'表单1'的工作表\n",
    "\n",
    "# 将空值赋值为0\n",
    "df = df.fillna(0)\n",
    "# 提取特征矩阵X（去除第一列和最后一列）\n",
    "X = df.iloc[:, 1:-1].values\n",
    "\n",
    "# # 提取标签y（最后一列）\n",
    "# y = df.iloc[:, -1].values\n",
    "\n",
    "# 归一化特征矩阵X\n",
    "scaler = MinMaxScaler()\n",
    "X_normalized = scaler.fit_transform(X)\n",
    "# 提取标签y（最后一列）\n",
    "y = np.array([math.fsum(list(value)) for value in X_normalized])\n",
    "\n",
    "X_train, X_test, y_train, y_test = train_test_split(X_normalized, y, random_state=40)\n"
   ]
  },
  {
   "cell_type": "code",
   "execution_count": 151,
   "metadata": {},
   "outputs": [
    {
     "name": "stdout",
     "output_type": "stream",
     "text": [
      "Selected Features: Index(['氧化钾(K2O)', '氧化钙(CaO)', '氧化镁(MgO)', '氧化铜(CuO)', '氧化锶(SrO)'], dtype='object')\n",
      "Cross-Validation Scores: [-0.80989428  0.2507901   0.45753655  0.26682668  0.00557362]\n",
      "Mean Cross-Validation Score: 0.034166535217474724\n"
     ]
    }
   ],
   "source": [
    "#稀松性质,将一部分系数变成0\n",
    "lasso = Lasso(alpha=0.05, max_iter=10000)# type: ignore )\n",
    "lasso.fit(X_train, y_train)\n",
    "\n",
    "# 输出非零系数对应的特征\n",
    "selected_features = df.columns[1:-1][lasso.coef_ != 0]\n",
    "print(\"Selected Features:\", selected_features)\n",
    "\n",
    "# 使用交叉验证评估模型性能\n",
    "scores = cross_val_score(lasso, X_normalized, y, cv=5)\n",
    "print(\"Cross-Validation Scores:\", scores)\n",
    "print(\"Mean Cross-Validation Score:\", scores.mean())\n",
    "\n",
    "# print(lasso.score(X_train, y_train))\n",
    "# print(lasso.score(X_test, y_test))\n",
    "# print(lasso.coef_)\n",
    "# print(lasso.intercept_)"
   ]
  },
  {
   "cell_type": "code",
   "execution_count": 126,
   "metadata": {},
   "outputs": [
    {
     "name": "stdout",
     "output_type": "stream",
     "text": [
      "[4.61779975 2.14941211 6.86890001 4.74262796 6.01870626 6.07673828\n",
      " 6.93053479 1.99117064 1.61921486 1.36822038 1.6230932  4.94988437\n",
      " 5.25514935 2.93619036 4.23315037 2.0383985  4.12216415 4.76797786\n",
      " 1.97451607 1.91429561]\n",
      "最佳 alpha 参数: 0.0029126805690608236\n",
      "选择的特征: Index(['二氧化硅(SiO2)', '氧化钠(Na2O)', '氧化钾(K2O)', '氧化钙(CaO)', '氧化镁(MgO)',\n",
      "       '氧化铝(Al2O3)', '氧化铁(Fe2O3)', '氧化铜(CuO)', '氧化铅(PbO)', '氧化钡(BaO)',\n",
      "       '氧化锡(SnO2)'],\n",
      "      dtype='object')\n",
      "训练集得分: 0.99778474104174\n",
      "测试集得分: -0.2610087062248223\n"
     ]
    }
   ],
   "source": [
    "import numpy as np\n",
    "import pandas as pd\n",
    "from sklearn.preprocessing import MinMaxScaler\n",
    "from sklearn.linear_model import LassoCV\n",
    "from sklearn.model_selection import train_test_split\n",
    "import math\n",
    "\n",
    "# 加载数据\n",
    "file_path = r'C:\\Users\\海棠微雨\\Desktop\\数据处理\\高钾.xlsx'\n",
    "df = pd.read_excel(file_path, sheet_name='Sheet1')\n",
    "\n",
    "# 将空值赋值为0\n",
    "df = df.fillna(0)\n",
    "\n",
    "# 提取特征矩阵X（去除第一列和最后一列）\n",
    "X = np.array(df.iloc[:, 1:-1].values)\n",
    "\n",
    "# 归一化特征矩阵X\n",
    "scaler = MinMaxScaler()\n",
    "X_normalized = scaler.fit_transform(X)\n",
    "\n",
    "# 提取标签y（最后一列）\n",
    "y = np.array([math.fsum(list(value)) for value in X_normalized])\n",
    "print(y)\n",
    "\n",
    "# 分割数据集为训练集和测试集\n",
    "X_train, X_test, y_train, y_test = train_test_split(X, y, test_size=0.2, random_state=0)\n",
    "\n",
    "# 使用 LassoCV 自动选择最优的 alpha\n",
    "lasso_cv = LassoCV(alphas=np.logspace(-4, 0, 5000), cv=5, max_iter=10000)\n",
    "lasso_cv.fit(X_train, y_train)\n",
    "\n",
    "# 输出最优 alpha 参数\n",
    "print(\"最佳 alpha 参数:\", lasso_cv.alpha_)\n",
    "\n",
    "# 输出非零系数对应的特征\n",
    "selected_features = df.columns[1:-1][lasso_cv.coef_ != 0]\n",
    "print(\"选择的特征:\", selected_features)\n",
    "\n",
    "# 打印训练集和测试集上的得分\n",
    "print(\"训练集得分:\", lasso_cv.score(X_train, y_train))\n",
    "print(\"测试集得分:\", lasso_cv.score(X_test, y_test))\n"
   ]
  }
 ],
 "metadata": {
  "kernelspec": {
   "display_name": "new_env",
   "language": "python",
   "name": "python3"
  },
  "language_info": {
   "codemirror_mode": {
    "name": "ipython",
    "version": 3
   },
   "file_extension": ".py",
   "mimetype": "text/x-python",
   "name": "python",
   "nbconvert_exporter": "python",
   "pygments_lexer": "ipython3",
   "version": "3.10.14"
  }
 },
 "nbformat": 4,
 "nbformat_minor": 2
}
