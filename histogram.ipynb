{
 "cells": [
  {
   "cell_type": "code",
   "execution_count": 19,
   "metadata": {},
   "outputs": [],
   "source": [
    "import matplotlib.pyplot as plt\n",
    "import pandas as pd\n",
    "import matplotlib.font_manager as fm\n",
    "import math\n",
    "import numpy as np\n",
    "from statistics import mean\n",
    "\n",
    "# 设置中文字体\n",
    "plt.rcParams['font.sans-serif'] = ['SimHei']  # 使用黑体字体\n",
    "plt.rcParams['axes.unicode_minus'] = False  # 解决负号显示问题"
   ]
  },
  {
   "cell_type": "code",
   "execution_count": 6,
   "metadata": {},
   "outputs": [],
   "source": [
    "df = pd.read_excel(\n",
    "    'C:/Users/海棠微雨/Desktop/C题/附件1.xlsx',\n",
    "    sheet_name='Sheet1',\n",
    "    header=0,  # 第一行作为列名\n",
    "    usecols='A:D',  # 读取 A 到 D 列\n",
    "    index_col=None,  # 第一列作为行索引\n",
    "    skiprows=0,  # 不跳过\n",
    "    nrows=None  # 读取所有 行\n",
    ")"
   ]
  },
  {
   "cell_type": "code",
   "execution_count": 7,
   "metadata": {},
   "outputs": [],
   "source": [
    "df1 = pd.read_excel(\n",
    "    'C:/Users/海棠微雨/Desktop/C题/附件4.xlsx',\n",
    "    sheet_name='Sheet1',\n",
    "    header=0,  # 第一行作为列名\n",
    "    usecols='A:C',  # 读取 A 到 D 列\n",
    "    index_col=None,  # 第一列作为行索引\n",
    "    skiprows=0,  # 不跳过\n",
    "    nrows=None  # 读取所有 行\n",
    ")"
   ]
  },
  {
   "cell_type": "code",
   "execution_count": 14,
   "metadata": {},
   "outputs": [],
   "source": [
    "encoder = df['单品编码']\n",
    "name = df['分类名称']\n",
    "# 使用 zip() 函数将两个列表合并为一个字典\n",
    "my_dict = dict(zip(encoder, name))\n",
    "encoder1 = df1['单品编码']\n",
    "attrition_rate1 = df1['损耗率(%)']\n",
    "length = len(encoder1)"
   ]
  },
  {
   "cell_type": "markdown",
   "metadata": {},
   "source": [
    "A, B, C, D, E, F = '花叶类', '花菜类', '辣椒类', '茄类', '食用菌', '水生根茎类'"
   ]
  },
  {
   "cell_type": "code",
   "execution_count": 16,
   "metadata": {},
   "outputs": [],
   "source": [
    "A, B, C, D, E, F = [], [], [], [], [], []\n",
    "for i in range(length):\n",
    "    if my_dict[encoder1[i]] == '花叶类':\n",
    "        A.append(attrition_rate1[i])\n",
    "    elif my_dict[encoder1[i]] == '花菜类':\n",
    "        B.append(attrition_rate1[i])   \n",
    "    elif my_dict[encoder1[i]] == '辣椒类':\n",
    "        C.append(attrition_rate1[i])\n",
    "    elif my_dict[encoder1[i]] == '茄类':\n",
    "        D.append(attrition_rate1[i])\n",
    "    elif my_dict[encoder1[i]] == '食用菌':\n",
    "        E.append(attrition_rate1[i])\n",
    "    elif my_dict[encoder1[i]] == '水生根茎类':\n",
    "        F.append(attrition_rate1[i])"
   ]
  },
  {
   "cell_type": "code",
   "execution_count": 23,
   "metadata": {},
   "outputs": [],
   "source": [
    "attrition_A, attrition_B, attrition_C, attrition_D, attrition_E, attrition_F = mean(A), mean(B), mean(C), mean(D), mean(E), mean(F)"
   ]
  },
  {
   "cell_type": "code",
   "execution_count": null,
   "metadata": {},
   "outputs": [],
   "source": [
    "# 示例数据\n",
    "categories = [ 'A', 'B', 'C', 'D', 'E', 'F']\n",
    "values = [attrition_A, attrition_B, attrition_C, attrition_D, attrition_E, attrition_F]\n",
    "\n",
    "# 绘制柱状图，设置颜色，边框宽度和样式\n",
    "plt.bar(categories, values, color='steelblue', edgecolor='black', linewidth=1.5, zorder=3)\n",
    "\n",
    "# 在每个柱子上添加数值标签\n",
    "for i, v in enumerate(values):\n",
    "    plt.text(i, v + 0.5, str(round(v, 2)), ha='center', fontsize=10, fontweight='bold', zorder=5)\n",
    "\n",
    "# 设置标题和标签\n",
    "plt.title('六大品类蔬菜损耗率直方图', fontsize=14, fontweight='bold')\n",
    "plt.ylabel('损耗率(%)', fontsize=12)\n",
    "\n",
    "# 调整y轴范围\n",
    "plt.ylim(0, 16)\n",
    "\n",
    "# 显示网格线，只显示水平线\n",
    "plt.grid(axis='y', linestyle='--', linewidth=0.7, zorder=0)\n",
    "\n",
    "# 显示图表\n",
    "plt.tight_layout()  # 自动调整子图参数，使图表更紧凑\n",
    "plt.show()"
   ]
  }
 ],
 "metadata": {
  "kernelspec": {
   "display_name": "py311",
   "language": "python",
   "name": "python3"
  },
  "language_info": {
   "codemirror_mode": {
    "name": "ipython",
    "version": 3
   },
   "file_extension": ".py",
   "mimetype": "text/x-python",
   "name": "python",
   "nbconvert_exporter": "python",
   "pygments_lexer": "ipython3",
   "version": "3.11.9"
  }
 },
 "nbformat": 4,
 "nbformat_minor": 2
}
