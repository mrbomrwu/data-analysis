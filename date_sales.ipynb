{
 "cells": [
  {
   "cell_type": "code",
   "execution_count": 21,
   "metadata": {},
   "outputs": [],
   "source": [
    "import matplotlib.pyplot as plt\n",
    "import pandas as pd\n",
    "import matplotlib.font_manager as fm\n",
    "import math\n",
    "\n",
    "# 设置中文字体\n",
    "plt.rcParams['font.sans-serif'] = ['SimHei']  # 使用黑体字体\n",
    "plt.rcParams['axes.unicode_minus'] = False  # 解决负号显示问题"
   ]
  },
  {
   "cell_type": "code",
   "execution_count": 3,
   "metadata": {},
   "outputs": [],
   "source": [
    "df = pd.read_excel(\n",
    "    'C:/Users/海棠微雨/Desktop/C题/附件1.xlsx',\n",
    "    sheet_name='Sheet1',\n",
    "    header=0,  # 第一行作为列名\n",
    "    usecols='A:D',  # 读取 A 到 D 列\n",
    "    index_col=None,  # 第一列作为行索引\n",
    "    skiprows=0,  # 不跳过\n",
    "    nrows=None  # 读取所有 行\n",
    ")\n",
    "df1 = pd.read_excel(\n",
    "    'C:/Users/海棠微雨/Desktop/C题/附件2.xlsx',\n",
    "    sheet_name='Sheet1',\n",
    "    header=0,  # 第一行作为列名\n",
    "    usecols='A:G',  # 读取 A 到 G 列\n",
    "    index_col=None,  # 第一列作为行索引\n",
    "    skiprows=0,  # 不跳过\n",
    "    nrows=None  # 读取所有 行\n",
    ")"
   ]
  },
  {
   "cell_type": "code",
   "execution_count": 6,
   "metadata": {},
   "outputs": [],
   "source": [
    "def creat_dict(j, List):\n",
    "    Dict = {}\n",
    "    seen = set()\n",
    "    for i in List:\n",
    "        Key = str(i)\n",
    "        if Key[:j] not in seen:\n",
    "            Dict[Key[:j]] = [[], [], [], [], [], []]  # 你可以把对应的值设置为任意值\n",
    "            seen.add(Key[:j])\n",
    "    return Dict"
   ]
  },
  {
   "cell_type": "code",
   "execution_count": 7,
   "metadata": {},
   "outputs": [],
   "source": [
    "encoder = df['单品编码']\n",
    "name = df['分类名称']\n",
    "# 使用 zip() 函数将两个列表合并为一个字典\n",
    "my_dict = dict(zip(encoder, name))\n",
    "encoder1 = list(df1['单品编码'])\n",
    "date = list(df1['销售日期'])\n",
    "sales = list(df1['销量(千克)'])\n",
    "sales_type = list(df1['销售类型'])\n",
    "\n",
    "# 使用列表推导式过滤数据\n",
    "encoder1 = [e for i, e in enumerate(encoder1) if sales_type[i] != '退货']\n",
    "date = [d for i, d in enumerate(date) if sales_type[i] != '退货']\n",
    "sales = [s for i, s in enumerate(sales) if sales_type[i] != '退货']\n",
    "sales_type = [t for t in sales_type if t != '退货']\n",
    "length = len(date)"
   ]
  },
  {
   "cell_type": "markdown",
   "metadata": {},
   "source": [
    "A, B, C, D, E, F = '花叶类', '花菜类', '辣椒类', '茄类', '食用菌', '水生根茎类'"
   ]
  },
  {
   "cell_type": "code",
   "execution_count": 8,
   "metadata": {},
   "outputs": [],
   "source": [
    "date_dict = creat_dict(10, date)\n",
    "for i in range(length):\n",
    "    if my_dict[encoder1[i]] == '花叶类':\n",
    "        date_dict[str(date[i])[:10]][0].append(sales[i])\n",
    "    elif my_dict[encoder1[i]] == '花菜类':\n",
    "        date_dict[str(date[i])[:10]][1].append(sales[i])\n",
    "    elif my_dict[encoder1[i]] == '辣椒类':\n",
    "        date_dict[str(date[i])[:10]][2].append(sales[i])\n",
    "    elif my_dict[encoder1[i]] == '茄类':\n",
    "        date_dict[str(date[i])[:10]][3].append(sales[i])\n",
    "    elif my_dict[encoder1[i]] == '食用菌':\n",
    "        date_dict[str(date[i])[:10]][4].append(sales[i])\n",
    "    elif my_dict[encoder1[i]] == '水生根茎类':\n",
    "        date_dict[str(date[i])[:10]][5].append(sales[i])"
   ]
  },
  {
   "cell_type": "code",
   "execution_count": 22,
   "metadata": {},
   "outputs": [],
   "source": [
    "date_dict1 = creat_dict(10, date)\n",
    "for i, j in zip(date_dict.values(), date_dict1.values()):\n",
    "    for k, v in zip(i, j):\n",
    "        v.append(math.fsum(k))"
   ]
  },
  {
   "cell_type": "code",
   "execution_count": null,
   "metadata": {},
   "outputs": [],
   "source": [
    "# 示例数据\n",
    "x = [1, 2, 3, 4, 5]\n",
    "y = [2, 3, 5, 7, 11]\n",
    "\n",
    "# 绘制曲线\n",
    "plt.plot(x, y, label='A')\n",
    "plt.plot(x, y, label='B')\n",
    "plt.plot(x, y, label='C')\n",
    "\n",
    "# 添加标题和标签\n",
    "plt.title(\"Simple Line Plot\")\n",
    "plt.xlabel(\"X Axis\")\n",
    "plt.ylabel(\"Y Axis\")\n",
    "\n",
    "# 显示图像\n",
    "plt.show()"
   ]
  },
  {
   "cell_type": "code",
   "execution_count": null,
   "metadata": {},
   "outputs": [],
   "source": []
  },
  {
   "cell_type": "code",
   "execution_count": null,
   "metadata": {},
   "outputs": [],
   "source": []
  }
 ],
 "metadata": {
  "kernelspec": {
   "display_name": "py311",
   "language": "python",
   "name": "python3"
  },
  "language_info": {
   "codemirror_mode": {
    "name": "ipython",
    "version": 3
   },
   "file_extension": ".py",
   "mimetype": "text/x-python",
   "name": "python",
   "nbconvert_exporter": "python",
   "pygments_lexer": "ipython3",
   "version": "3.11.9"
  }
 },
 "nbformat": 4,
 "nbformat_minor": 2
}
