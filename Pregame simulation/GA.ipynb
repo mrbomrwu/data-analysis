{
 "cells": [
  {
   "cell_type": "code",
   "execution_count": 1,
   "metadata": {},
   "outputs": [],
   "source": [
    "import random\n",
    "from deap import base, creator, tools, algorithms\n",
    "import pandas as pd\n",
    "import numpy as np\n",
    "from functools import partial\n"
   ]
  },
  {
   "cell_type": "code",
   "execution_count": 2,
   "metadata": {},
   "outputs": [],
   "source": [
    "path = r\"C:/Users/海棠微雨/Desktop/cumcm2021c/C/供应商综合评价排名.xlsx\"\n",
    "df = pd.read_excel(path, sheet_name='Sheet1')\n",
    "\n",
    "# 输出到Excel文件\n",
    "path1 = r\"C:/Users/海棠微雨/Desktop/cumcm2021c/C/由大到小综合评价的索引.xlsx\"\n",
    "df1 = pd.read_excel(path1, sheet_name='Sheet1')\n",
    "\n",
    "path2 = r\"C:/Users/海棠微雨/Desktop/cumcm2021c/C/附件1 近5年402家供应商的相关数据.xlsx\"\n",
    "df2 = pd.read_excel(path2, sheet_name='供应商的供货量（m³）')\n",
    "\n",
    "data0 = df2.iloc[:, :].values\n"
   ]
  },
  {
   "cell_type": "code",
   "execution_count": 3,
   "metadata": {},
   "outputs": [],
   "source": [
    "index = df1.iloc[:50, :].values.tolist()\n",
    "# 将所有子列表合并为一个列表\n",
    "index = np.array([item for sublist in index for item in sublist])\n"
   ]
  },
  {
   "cell_type": "code",
   "execution_count": 17,
   "metadata": {},
   "outputs": [
    {
     "data": {
      "text/plain": [
       "array([['S229', 'A', 2006, ..., 1899, 1574, 1666],\n",
       "       ['S361', 'C', 910, ..., 2221, 1015, 1012],\n",
       "       ['S108', 'B', 556, ..., 636, 755, 698],\n",
       "       ...,\n",
       "       ['S208', 'A', 0, ..., 0, 0, 0],\n",
       "       ['S154', 'A', 0, ..., 244, 153, 83],\n",
       "       ['S189', 'A', 71, ..., 0, 0, 0]], dtype=object)"
      ]
     },
     "execution_count": 17,
     "metadata": {},
     "output_type": "execute_result"
    }
   ],
   "source": [
    "df2.iloc[index, :].values\n",
    "sales = np.array([item for item in df2.iloc[index, :].values])\n",
    "sales\n"
   ]
  },
  {
   "cell_type": "code",
   "execution_count": 18,
   "metadata": {},
   "outputs": [
    {
     "name": "stdout",
     "output_type": "stream",
     "text": [
      "由大到小综合评价的索引已保存到 C:/Users/海棠微雨/Desktop/cumcm2021c/C/前50家商家供货量.xlsx\n"
     ]
    }
   ],
   "source": [
    "# 创建DataFrame保存结果\n",
    "result_df = pd.DataFrame(sales # 只取供货量数据（去掉前两列）\n",
    ")\n",
    "\n",
    "# 输出到Excel文件\n",
    "output_path = r\"C:/Users/海棠微雨/Desktop/cumcm2021c/C/前50家商家供货量.xlsx\"\n",
    "result_df.to_excel(output_path, index=False)\n",
    "\n",
    "print(f\"由大到小综合评价的索引已保存到 {output_path}\")"
   ]
  },
  {
   "cell_type": "code",
   "execution_count": 69,
   "metadata": {},
   "outputs": [
    {
     "name": "stdout",
     "output_type": "stream",
     "text": [
      "Minimum suppliers needed: 1\n",
      "Best individual: [600.0000000000003], with total supply 56400.0 including initial stock 55800\n"
     ]
    }
   ],
   "source": [
    "# 仓库初始库存\n",
    "initial_stock = 55800  # 立方米\n",
    "\n",
    "# 根据索引提取前50个供应商的数据\n",
    "data = df2.iloc[index, 2:].values  # 只取供货量数据（去掉前两列）\n",
    "\n",
    "# 设置企业的需求参数\n",
    "weekly_demand = 2.82 * 10**4\n",
    "target_supply = 2 * weekly_demand  # 两周的需求\n",
    "\n",
    "# 创建适应度和个体类\n",
    "creator.create(\"FitnessMin\", base.Fitness, weights=(-1.0,))\n",
    "creator.create(\"Individual\", list, fitness=creator.FitnessMin)\n",
    "\n",
    "# 初始化函数：随机选择n个供应商\n",
    "def initIndividual(icls, data, n_suppliers):\n",
    "    idx = random.sample(range(data.shape[0]), n_suppliers)\n",
    "    individual = [data[i].sum() for i in idx]\n",
    "    return icls(individual)\n",
    "\n",
    "# 适应度函数：计算供应商总供应量与目标供货量（目标值减去初始库存）的差值（最小化差值）\n",
    "def evalFunc(individual):\n",
    "    total_supply = sum(individual) + initial_stock\n",
    "    return abs(total_supply - target_supply),  # 返回一个元组，适应度是差值的绝对值\n",
    "\n",
    "# 设置工具箱\n",
    "toolbox = base.Toolbox()\n",
    "toolbox.register(\"evaluate\", evalFunc)\n",
    "toolbox.register(\"mate\", tools.cxBlend, alpha=0.5)\n",
    "toolbox.register(\"mutate\", tools.mutGaussian, mu=0, sigma=1, indpb=0.2)\n",
    "toolbox.register(\"select\", tools.selTournament, tournsize=3)\n",
    "\n",
    "# 主函数\n",
    "def main():\n",
    "    for n_suppliers in range(1, 51):  # 从1个供应商开始，逐步增加\n",
    "        # 如果已经注册，取消注册\n",
    "        if hasattr(toolbox, \"individual\"):\n",
    "            delattr(toolbox, \"individual\")\n",
    "        \n",
    "        # 注册新的individual生成函数\n",
    "        toolbox.register(\"individual\", partial(initIndividual, icls=creator.Individual, data=data, n_suppliers=n_suppliers))\n",
    "        toolbox.register(\"population\", tools.initRepeat, list, toolbox.individual)\n",
    "        \n",
    "        pop = toolbox.population(n=300)  # 设置种群规模\n",
    "        cxpb, mutpb, ngen = 0.7, 0.3, 100  # 交叉概率、变异概率和代数\n",
    "        pop, log = algorithms.eaSimple(pop, toolbox, cxpb, mutpb, ngen, \n",
    "                                       stats=None, halloffame=None, verbose=False)\n",
    "        \n",
    "        best_individual = tools.selBest(pop, 1)[0]\n",
    "        best_total_supply = sum(best_individual) + initial_stock\n",
    "        \n",
    "        if abs(best_total_supply - target_supply) <= 1:  # 满足条件的误差范围（单位为立方米）\n",
    "            print(f\"Minimum suppliers needed: {n_suppliers}\")\n",
    "            print(f\"Best individual: {best_individual}, with total supply {best_total_supply} including initial stock {initial_stock}\")\n",
    "            break\n",
    "\n",
    "if __name__ == \"__main__\":\n",
    "    main()"
   ]
  },
  {
   "cell_type": "code",
   "execution_count": null,
   "metadata": {},
   "outputs": [],
   "source": []
  }
 ],
 "metadata": {
  "kernelspec": {
   "display_name": "new_env",
   "language": "python",
   "name": "python3"
  },
  "language_info": {
   "codemirror_mode": {
    "name": "ipython",
    "version": 3
   },
   "file_extension": ".py",
   "mimetype": "text/x-python",
   "name": "python",
   "nbconvert_exporter": "python",
   "pygments_lexer": "ipython3",
   "version": "3.10.14"
  }
 },
 "nbformat": 4,
 "nbformat_minor": 2
}
