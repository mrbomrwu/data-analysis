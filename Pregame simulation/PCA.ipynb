{
 "cells": [
  {
   "cell_type": "code",
   "execution_count": 10,
   "metadata": {},
   "outputs": [],
   "source": [
    "from sklearn.decomposition import PCA\n",
    "from sklearn import preprocessing\n",
    "import numpy as np\n",
    "import random\n",
    "import pandas as pd\n",
    "from sklearn.model_selection import cross_val_score, train_test_split\n",
    "import math\n",
    "\n",
    "np.set_printoptions(suppress=True)"
   ]
  },
  {
   "cell_type": "code",
   "execution_count": 11,
   "metadata": {},
   "outputs": [],
   "source": [
    "# 加载数据\n",
    "file_path = r'C:\\Users\\海棠微雨\\Desktop\\数据处理\\铅钡.xlsx'  # 数据文件路径\n",
    "df = pd.read_excel(file_path, sheet_name='Sheet1')  # 从Excel文件中加载数据，读取名为'表单1'的工作表\n",
    "\n",
    "# 将空值赋值为0\n",
    "df = df.fillna(0)\n",
    "# 提取特征矩阵X（去除第一列和最后一列）\n",
    "X_data = df.iloc[:, 1:-1].values\n",
    "#标准化处理\n",
    "X = preprocessing.scale(X_data) "
   ]
  },
  {
   "cell_type": "code",
   "execution_count": 21,
   "metadata": {},
   "outputs": [
    {
     "name": "stdout",
     "output_type": "stream",
     "text": [
      "特征值: [3.65008143 3.01015324 1.69928774 1.10734371 0.92648568 0.85811429\n",
      " 0.7628674  0.63118475 0.57593042 0.37231077 0.35709202 0.21037453\n",
      " 0.12581377 0.00462693]\n",
      "方差解释率 [0.25539928 0.21062297 0.1189006  0.07748178 0.06482699 0.06004298\n",
      " 0.05337848 0.04416453 0.04029834 0.0260509  0.02498603 0.01472008\n",
      " 0.0088033  0.00032375]\n"
     ]
    }
   ],
   "source": [
    "pca = PCA(n_components=14, copy=True)\n",
    "pca.fit(X) # PCA是一种非监督算法\n",
    "\n",
    "# print('主成分系数矩阵是:', pca.components_)\n",
    "print('特征值:', pca.explained_variance_)\n",
    "print('方差解释率', pca.explained_variance_ratio_)\n",
    "# print(math.fsum(pca.explained_variance_ratio_))"
   ]
  }
 ],
 "metadata": {
  "kernelspec": {
   "display_name": "new_env",
   "language": "python",
   "name": "python3"
  },
  "language_info": {
   "codemirror_mode": {
    "name": "ipython",
    "version": 3
   },
   "file_extension": ".py",
   "mimetype": "text/x-python",
   "name": "python",
   "nbconvert_exporter": "python",
   "pygments_lexer": "ipython3",
   "version": "3.10.14"
  }
 },
 "nbformat": 4,
 "nbformat_minor": 2
}
