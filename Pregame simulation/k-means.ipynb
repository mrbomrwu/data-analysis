{
 "cells": [
  {
   "cell_type": "code",
   "execution_count": 249,
   "metadata": {},
   "outputs": [],
   "source": [
    "from sklearn.cluster import KMeans\n",
    "import pandas as pd\n",
    "import matplotlib.pyplot as plt\n",
    "from scipy.stats import f_oneway\n",
    "\n",
    "# 设置中文字体\n",
    "plt.rcParams['font.sans-serif'] = ['SimHei']  # 使用黑体字体\n",
    "plt.rcParams['axes.unicode_minus'] = False  # 解决负号显示问题"
   ]
  },
  {
   "cell_type": "code",
   "execution_count": 250,
   "metadata": {},
   "outputs": [],
   "source": [
    "path = r\"D:/Code/DATA-analysis\\data-analysis/Pregame simulation/高钾风化筛选结果.xlsx\"\n",
    "df = pd.read_excel(path, sheet_name='Sheet1')  # 从Excel文件中加载数据，读取名为'表单1'的工作表"
   ]
  },
  {
   "cell_type": "code",
   "execution_count": 251,
   "metadata": {},
   "outputs": [
    {
     "name": "stdout",
     "output_type": "stream",
     "text": [
      "分类结果： [0 1 1 1 0 0]\n",
      "各类别中心： [[92.56666667  0.          0.24666667  1.22333333  0.39333333  2.66333333\n",
      "   0.24        1.77666667  0.          0.          0.39333333  0.\n",
      "   0.          0.        ]\n",
      " [95.36        0.          0.84        0.51666667  0.          1.19666667\n",
      "   0.29        1.34666667  0.          0.          0.16666667  0.\n",
      "   0.          0.        ]]\n"
     ]
    },
    {
     "name": "stderr",
     "output_type": "stream",
     "text": [
      "d:\\Anaconda\\envs\\new_env\\lib\\site-packages\\sklearn\\cluster\\_kmeans.py:1429: UserWarning: KMeans is known to have a memory leak on Windows with MKL, when there are less chunks than available threads. You can avoid it by setting the environment variable OMP_NUM_THREADS=1.\n",
      "  warnings.warn(\n"
     ]
    }
   ],
   "source": [
    "X = df.iloc[:, 1:].values\n",
    "\n",
    "kmeans = KMeans(n_clusters=2)\n",
    "kmeans.fit(X)  # 也可以指定初始中心，默认是随机初始化中心\n",
    "\n",
    "print('分类结果：', kmeans.labels_)\n",
    "print('各类别中心：', kmeans.cluster_centers_)"
   ]
  },
  {
   "cell_type": "code",
   "execution_count": 252,
   "metadata": {},
   "outputs": [
    {
     "data": {
      "text/plain": [
       "array([0, 1, 1, 1, 0, 0])"
      ]
     },
     "execution_count": 252,
     "metadata": {},
     "output_type": "execute_result"
    }
   ],
   "source": [
    "kmeans.labels_"
   ]
  },
  {
   "cell_type": "code",
   "execution_count": 253,
   "metadata": {},
   "outputs": [
    {
     "data": {
      "image/png": "[encoded data removed]",
      "text/plain": [
       "<Figure size 800x600 with 2 Axes>"
      ]
     },
     "metadata": {},
     "output_type": "display_data"
    }
   ],
   "source": [
    "# 创建图形\n",
    "plt.figure(figsize=(8, 6))\n",
    "\n",
    "# 绘制散点图，使用颜色映射\n",
    "plt.scatter(X[:, 0], X[:, 1], c=kmeans.labels_, cmap='viridis')\n",
    "\n",
    "# 添加标题和标签\n",
    "plt.title('K-means 聚类结果')\n",
    "plt.xlabel('特征 1')\n",
    "plt.ylabel('特征 2')\n",
    "\n",
    "# 显示颜色条\n",
    "plt.colorbar(label='聚类标签')\n",
    "\n",
    "# 显示图形\n",
    "plt.show()"
   ]
  },
  {
   "cell_type": "code",
   "execution_count": 254,
   "metadata": {},
   "outputs": [],
   "source": [
    "# import matplotlib.pyplot as plt\n",
    "\n",
    "# sse = []\n",
    "# for k in range(1, 11):\n",
    "#     kmeans = KMeans(n_clusters=k)\n",
    "#     kmeans.fit(X)\n",
    "#     sse.append(kmeans.inertia_)\n",
    "\n",
    "# plt.plot(range(1, 11), sse, marker='o')\n",
    "# plt.xlabel('Number of clusters')\n",
    "# plt.ylabel('SSE')\n",
    "# plt.title('Elbow Method')\n",
    "# plt.show()\n"
   ]
  },
  {
   "cell_type": "code",
   "execution_count": 255,
   "metadata": {},
   "outputs": [
    {
     "data": {
      "text/plain": [
       "array([0, 1, 1, 1, 0, 0])"
      ]
     },
     "execution_count": 255,
     "metadata": {},
     "output_type": "execute_result"
    }
   ],
   "source": [
    "kmeans.labels_"
   ]
  },
  {
   "cell_type": "code",
   "execution_count": 256,
   "metadata": {},
   "outputs": [
    {
     "name": "stdout",
     "output_type": "stream",
     "text": [
      "         SiO2  Na2O       K2O       CaO       MgO     Al2O3  Fe2O3       CuO  \\\n",
      "标签                                                                             \n",
      "0   92.566667   0.0  0.246667  1.223333  0.393333  2.663333   0.24  1.776667   \n",
      "1   95.360000   0.0  0.840000  0.516667  0.000000  1.196667   0.29  1.346667   \n",
      "\n",
      "    PbO  BaO      P2O5  SrO  SnO2  SO2  该类别个数  \n",
      "标签                                             \n",
      "0   0.0  0.0  0.393333  0.0   0.0  0.0      3  \n",
      "1   0.0  0.0  0.166667  0.0   0.0  0.0      3  \n"
     ]
    }
   ],
   "source": [
    "labels = kmeans.labels_\n",
    "\n",
    "# 将数据和标签组合成DataFrame\n",
    "df = pd.DataFrame(X, columns=[\n",
    "    'SiO2', 'Na2O', 'K2O', 'CaO', 'MgO', 'Al2O3', 'Fe2O3', 'CuO', 'PbO', 'BaO', \n",
    "    'P2O5', 'SrO', 'SnO2', 'SO2'\n",
    "])\n",
    "df['标签'] = labels\n",
    "\n",
    "# 计算每个特征在不同簇中的均值和该类别个数\n",
    "cluster_summary = df.groupby('标签').agg({\n",
    "    'SiO2': 'mean',\n",
    "    'Na2O': 'mean',\n",
    "    'K2O': 'mean',\n",
    "    'CaO': 'mean',\n",
    "    'MgO': 'mean',\n",
    "    'Al2O3': 'mean',\n",
    "    'Fe2O3': 'mean',\n",
    "    'CuO': 'mean',\n",
    "    'PbO': 'mean',\n",
    "    'BaO': 'mean',\n",
    "    'P2O5': 'mean',\n",
    "    'SrO': 'mean',\n",
    "    'SnO2': 'mean',\n",
    "    'SO2': 'mean',\n",
    "    '标签': 'count'\n",
    "}).rename(columns={'标签': '该类别个数'})\n",
    "\n",
    "print(cluster_summary)"
   ]
  },
  {
   "cell_type": "code",
   "execution_count": 257,
   "metadata": {},
   "outputs": [
    {
     "name": "stdout",
     "output_type": "stream",
     "text": [
      "         SiO2  Na2O       K2O       CaO       MgO     Al2O3     Fe2O3  \\\n",
      "F值  14.088272   NaN  4.563445  6.801453  3.915636  9.060277  0.735294   \n",
      "P值   0.019888   NaN  0.099509  0.059548  0.118965  0.039549  0.439512   \n",
      "\n",
      "         CuO  PbO  BaO      P2O5  SrO  SnO2  SO2  \n",
      "F值  0.271106  NaN  NaN  2.150698  NaN   NaN  NaN  \n",
      "P值  0.630084  NaN  NaN  0.216394  NaN   NaN  NaN  \n"
     ]
    },
    {
     "name": "stderr",
     "output_type": "stream",
     "text": [
      "d:\\Anaconda\\envs\\new_env\\lib\\site-packages\\scipy\\stats\\_axis_nan_policy.py:531: ConstantInputWarning: Each of the input arrays is constant; the F statistic is not defined or infinite\n",
      "  res = hypotest_fun_out(*samples, **kwds)\n"
     ]
    }
   ],
   "source": [
    "labels# 进行F检验和P检验\n",
    "f_p_values = {}\n",
    "for column in df.columns[:-1]:  # 排除最后一列标签\n",
    "    f_value, p_value = f_oneway(df[df['标签'] == 0][column], df[df['标签'] == 1][column])\n",
    "    f_p_values[column] = {'F值': f_value, 'P值': p_value}\n",
    "\n",
    "# 输出F检验和P检验结果\n",
    "f_p_df = pd.DataFrame(f_p_values)\n",
    "print(f_p_df)"
   ]
  }
 ],
 "metadata": {
  "kernelspec": {
   "display_name": "new_env",
   "language": "python",
   "name": "python3"
  },
  "language_info": {
   "codemirror_mode": {
    "name": "ipython",
    "version": 3
   },
   "file_extension": ".py",
   "mimetype": "text/x-python",
   "name": "python",
   "nbconvert_exporter": "python",
   "pygments_lexer": "ipython3",
   "version": "3.10.14"
  }
 },
 "nbformat": 4,
 "nbformat_minor": 2
}
