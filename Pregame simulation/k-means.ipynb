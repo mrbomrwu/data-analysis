{
 "cells": [
  {
   "cell_type": "code",
   "execution_count": 96,
   "metadata": {},
   "outputs": [],
   "source": [
    "from sklearn.cluster import KMeans\n",
    "import pandas as pd\n",
    "import matplotlib.pyplot as plt\n",
    "from scipy.stats import f_oneway\n",
    "\n",
    "# 设置中文字体\n",
    "plt.rcParams['font.sans-serif'] = ['SimHei']  # 使用黑体字体\n",
    "plt.rcParams['axes.unicode_minus'] = False  # 解决负号显示问题"
   ]
  },
  {
   "cell_type": "code",
   "execution_count": 97,
   "metadata": {},
   "outputs": [],
   "source": [
    "path = r\"D:/Code/DATA-analysis\\data-analysis/Pregame simulation/高钾筛选结果.xlsx\"\n",
    "df = pd.read_excel(path, sheet_name='Sheet1')  # 从Excel文件中加载数据，读取名为'表单1'的工作表"
   ]
  },
  {
   "cell_type": "code",
   "execution_count": 98,
   "metadata": {},
   "outputs": [
    {
     "name": "stdout",
     "output_type": "stream",
     "text": [
      "分类结果： [1 0 1 1 1 1 1 1 1 1 1 1 0 0]\n",
      "各类别中心： [[8.10633333e+01 1.11022302e-16 4.87000000e+00 2.24000000e+00\n",
      "  9.16666667e-01 4.43333333e+00 7.90000000e-01 1.35333333e+00\n",
      "  4.16666667e-01 6.56666667e-01 1.04000000e+00 2.33333333e-02\n",
      "  7.86666667e-01 0.00000000e+00]\n",
      " [6.32000000e+01 1.24272727e+00 1.00463636e+01 5.20636364e+00\n",
      "  1.09727273e+00 6.29909091e+00 2.08090909e+00 2.52272727e+00\n",
      "  3.70000000e-01 4.73636364e-01 1.28636364e+00 3.90909091e-02\n",
      "  0.00000000e+00 1.10909091e-01]]\n"
     ]
    },
    {
     "name": "stderr",
     "output_type": "stream",
     "text": [
      "d:\\Anaconda\\envs\\new_env\\lib\\site-packages\\sklearn\\cluster\\_kmeans.py:1429: UserWarning: KMeans is known to have a memory leak on Windows with MKL, when there are less chunks than available threads. You can avoid it by setting the environment variable OMP_NUM_THREADS=1.\n",
      "  warnings.warn(\n"
     ]
    }
   ],
   "source": [
    "X = df.iloc[:, 1:].values\n",
    "\n",
    "kmeans = KMeans(n_clusters=2)\n",
    "kmeans.fit(X)  # 也可以指定初始中心，默认是随机初始化中心\n",
    "\n",
    "print('分类结果：', kmeans.labels_)\n",
    "print('各类别中心：', kmeans.cluster_centers_)"
   ]
  },
  {
   "cell_type": "code",
   "execution_count": 99,
   "metadata": {},
   "outputs": [
    {
     "data": {
      "text/plain": [
       "array([1, 0, 1, 1, 1, 1, 1, 1, 1, 1, 1, 1, 0, 0])"
      ]
     },
     "execution_count": 99,
     "metadata": {},
     "output_type": "execute_result"
    }
   ],
   "source": [
    "kmeans.labels_"
   ]
  },
  {
   "cell_type": "code",
   "execution_count": 100,
   "metadata": {},
   "outputs": [
    {
     "data": {
      "image/png": "[encoded data removed]",
      "text/plain": [
       "<Figure size 800x600 with 2 Axes>"
      ]
     },
     "metadata": {},
     "output_type": "display_data"
    }
   ],
   "source": [
    "# 创建图形\n",
    "plt.figure(figsize=(8, 6))\n",
    "\n",
    "# 绘制散点图，使用颜色映射\n",
    "plt.scatter(X[:, 0], X[:, 1], c=kmeans.labels_, cmap='viridis')\n",
    "\n",
    "# 添加标题和标签\n",
    "plt.title('K-means 聚类结果')\n",
    "plt.xlabel('特征 1')\n",
    "plt.ylabel('特征 2')\n",
    "\n",
    "# 显示颜色条\n",
    "plt.colorbar(label='聚类标签')\n",
    "\n",
    "# 显示图形\n",
    "plt.show()"
   ]
  },
  {
   "cell_type": "code",
   "execution_count": 101,
   "metadata": {},
   "outputs": [],
   "source": [
    "# import matplotlib.pyplot as plt\n",
    "\n",
    "# sse = []\n",
    "# for k in range(1, 11):\n",
    "#     kmeans = KMeans(n_clusters=k)\n",
    "#     kmeans.fit(X)\n",
    "#     sse.append(kmeans.inertia_)\n",
    "\n",
    "# plt.plot(range(1, 11), sse, marker='o')\n",
    "# plt.xlabel('Number of clusters')\n",
    "# plt.ylabel('SSE')\n",
    "# plt.title('Elbow Method')\n",
    "# plt.show()\n"
   ]
  },
  {
   "cell_type": "code",
   "execution_count": 102,
   "metadata": {},
   "outputs": [
    {
     "data": {
      "text/plain": [
       "array([1, 0, 1, 1, 1, 1, 1, 1, 1, 1, 1, 1, 0, 0])"
      ]
     },
     "execution_count": 102,
     "metadata": {},
     "output_type": "execute_result"
    }
   ],
   "source": [
    "kmeans.labels_"
   ]
  },
  {
   "cell_type": "code",
   "execution_count": 103,
   "metadata": {},
   "outputs": [
    {
     "name": "stdout",
     "output_type": "stream",
     "text": [
      "         SiO2      Na2O        K2O       CaO       MgO     Al2O3     Fe2O3  \\\n",
      "标签                                                                           \n",
      "0   81.063333  0.000000   4.870000  2.240000  0.916667  4.433333  0.790000   \n",
      "1   63.200000  1.242727  10.046364  5.206364  1.097273  6.299091  2.080909   \n",
      "\n",
      "         CuO       PbO       BaO      P2O5       SrO      SnO2       SO2  \\\n",
      "标签                                                                         \n",
      "0   1.353333  0.416667  0.656667  1.040000  0.023333  0.786667  0.000000   \n",
      "1   2.522727  0.370000  0.473636  1.286364  0.039091  0.000000  0.110909   \n",
      "\n",
      "    该类别个数  \n",
      "标签         \n",
      "0       3  \n",
      "1      11  \n"
     ]
    }
   ],
   "source": [
    "labels = kmeans.labels_\n",
    "\n",
    "# 将数据和标签组合成DataFrame\n",
    "df = pd.DataFrame(X, columns=[\n",
    "    'SiO2', 'Na2O', 'K2O', 'CaO', 'MgO', 'Al2O3', 'Fe2O3', 'CuO', 'PbO', 'BaO', \n",
    "    'P2O5', 'SrO', 'SnO2', 'SO2'\n",
    "])\n",
    "df['标签'] = labels\n",
    "\n",
    "# 计算每个特征在不同簇中的均值和该类别个数\n",
    "cluster_summary = df.groupby('标签').agg({\n",
    "    'SiO2': 'mean',\n",
    "    'Na2O': 'mean',\n",
    "    'K2O': 'mean',\n",
    "    'CaO': 'mean',\n",
    "    'MgO': 'mean',\n",
    "    'Al2O3': 'mean',\n",
    "    'Fe2O3': 'mean',\n",
    "    'CuO': 'mean',\n",
    "    'PbO': 'mean',\n",
    "    'BaO': 'mean',\n",
    "    'P2O5': 'mean',\n",
    "    'SrO': 'mean',\n",
    "    'SnO2': 'mean',\n",
    "    'SO2': 'mean',\n",
    "    '标签': 'count'\n",
    "}).rename(columns={'标签': '该类别个数'})\n",
    "\n",
    "print(cluster_summary)"
   ]
  },
  {
   "cell_type": "code",
   "execution_count": 104,
   "metadata": {},
   "outputs": [
    {
     "name": "stdout",
     "output_type": "stream",
     "text": [
      "         SiO2      Na2O       K2O       CaO       MgO     Al2O3     Fe2O3  \\\n",
      "F值  53.565971  2.001595  6.294227  1.868537  0.184451  0.906068  1.683963   \n",
      "P值   0.000009  0.182555  0.027467  0.196705  0.675186  0.359940  0.218790   \n",
      "\n",
      "         CuO       PbO       BaO      P2O5       SrO      SnO2       SO2  \n",
      "F值  1.296241  0.015815  0.085026  0.069015  0.249431  4.714286  0.947308  \n",
      "P值  0.277121  0.902006  0.775578  0.797233  0.626507  0.050682  0.349617  \n"
     ]
    }
   ],
   "source": [
    "labels# 进行F检验和P检验\n",
    "f_p_values = {}\n",
    "for column in df.columns[:-1]:  # 排除最后一列标签\n",
    "    f_value, p_value = f_oneway(df[df['标签'] == 0][column], df[df['标签'] == 1][column])\n",
    "    f_p_values[column] = {'F值': f_value, 'P值': p_value}\n",
    "\n",
    "# 输出F检验和P检验结果\n",
    "f_p_df = pd.DataFrame(f_p_values)\n",
    "print(f_p_df)"
   ]
  }
 ],
 "metadata": {
  "kernelspec": {
   "display_name": "new_env",
   "language": "python",
   "name": "python3"
  },
  "language_info": {
   "codemirror_mode": {
    "name": "ipython",
    "version": 3
   },
   "file_extension": ".py",
   "mimetype": "text/x-python",
   "name": "python",
   "nbconvert_exporter": "python",
   "pygments_lexer": "ipython3",
   "version": "3.10.14"
  }
 },
 "nbformat": 4,
 "nbformat_minor": 2
}
