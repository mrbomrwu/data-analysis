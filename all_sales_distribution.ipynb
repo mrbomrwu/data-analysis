{
 "cells": [
  {
   "cell_type": "markdown",
   "metadata": {},
   "source": [
    "蔬菜六大品类总销售量分布情况"
   ]
  },
  {
   "cell_type": "code",
   "execution_count": 42,
   "metadata": {},
   "outputs": [],
   "source": [
    "import matplotlib.pyplot as plt\n",
    "import pandas as pd\n",
    "import matplotlib.font_manager as fm\n",
    "import math\n",
    "import numpy as np\n",
    "import statistics\n",
    "from scipy.stats import skew\n",
    "from scipy.stats import kurtosis\n",
    "from matplotlib.ticker import FuncFormatter\n",
    "\n",
    "# 设置中文字体\n",
    "plt.rcParams['font.sans-serif'] = ['SimHei']  # 使用黑体字体\n",
    "plt.rcParams['axes.unicode_minus'] = False  # 解决负号显示问题"
   ]
  },
  {
   "cell_type": "code",
   "execution_count": 2,
   "metadata": {},
   "outputs": [],
   "source": [
    "df = pd.read_excel(\n",
    "    'C:/Users/海棠微雨/Desktop/C题/附件1.xlsx',\n",
    "    sheet_name='Sheet1',\n",
    "    header=0,  # 第一行作为列名\n",
    "    usecols='A:D',  # 读取 A 到 D 列\n",
    "    index_col=None,  # 第一列作为行索引\n",
    "    skiprows=0,  # 不跳过\n",
    "    nrows=None  # 读取所有 行\n",
    ")\n",
    "df1 = pd.read_excel(\n",
    "    'C:/Users/海棠微雨/Desktop/C题/附件2.xlsx',\n",
    "    sheet_name='Sheet1',\n",
    "    header=0,  # 第一行作为列名\n",
    "    usecols='A:G',  # 读取 A 到 G 列\n",
    "    index_col=None,  # 第一列作为行索引\n",
    "    skiprows=0,  # 不跳过\n",
    "    nrows=None  # 读取所有 行\n",
    ")"
   ]
  },
  {
   "cell_type": "code",
   "execution_count": 8,
   "metadata": {},
   "outputs": [],
   "source": [
    "def creat_dict(j, List):\n",
    "    Dict = {}\n",
    "    seen = set()\n",
    "    for i in List:\n",
    "        Key = str(i)\n",
    "        if Key[:j] not in seen:\n",
    "            Dict[Key[:j]] = []  # 你可以把对应的值设置为任意值\n",
    "            seen.add(Key[:j])\n",
    "    return Dict"
   ]
  },
  {
   "cell_type": "code",
   "execution_count": 15,
   "metadata": {},
   "outputs": [],
   "source": [
    "encoder = df['单品编码']\n",
    "name = df['分类名称']\n",
    "# 使用 zip() 函数将两个列表合并为一个字典\n",
    "my_dict = dict(zip(encoder, name))\n",
    "encoder1 = list(df1['单品编码'])\n",
    "date = list(df1['销售日期'])\n",
    "sales = list(df1['销量(千克)'])\n",
    "sales_type = list(df1['销售类型'])\n",
    "\n",
    "# 使用列表推导式过滤数据\n",
    "encoder1 = [e for i, e in enumerate(encoder1) if sales_type[i] != '退货']\n",
    "date = [d for i, d in enumerate(date) if sales_type[i] != '退货']\n",
    "sales = [s for i, s in enumerate(sales) if sales_type[i] != '退货']\n",
    "sales_type = [t for t in sales_type if t != '退货']\n",
    "length = len(date)"
   ]
  },
  {
   "cell_type": "code",
   "execution_count": 16,
   "metadata": {},
   "outputs": [],
   "source": [
    "variety = ['花叶类', '花菜类', '辣椒类', '茄类', '食用菌', '水生根茎类']\n",
    "date_dict = creat_dict(5, variety)\n",
    "for i in range(length):\n",
    "    if my_dict[encoder1[i]] == '花叶类':\n",
    "        date_dict[variety[0]].append(sales[i])\n",
    "    elif my_dict[encoder1[i]] == '花菜类':\n",
    "        date_dict[variety[1]].append(sales[i])\n",
    "    elif my_dict[encoder1[i]] == '辣椒类':\n",
    "        date_dict[variety[2]].append(sales[i])\n",
    "    elif my_dict[encoder1[i]] == '茄类':\n",
    "        date_dict[variety[3]].append(sales[i])\n",
    "    elif my_dict[encoder1[i]] == '食用菌':\n",
    "        date_dict[variety[4]].append(sales[i])\n",
    "    elif my_dict[encoder1[i]] == '水生根茎类':\n",
    "        date_dict[variety[5]].append(sales[i])"
   ]
  },
  {
   "cell_type": "code",
   "execution_count": 21,
   "metadata": {},
   "outputs": [],
   "source": [
    "[sales_A, sales_B, sales_C, sales_D, sales_E, sales_F] = [0, 0, 0, 0, 0, 0]\n",
    "sales_list = [sales_A, sales_B, sales_C, sales_D, sales_E, sales_F]\n",
    "\n",
    "for idx, (i, j) in enumerate(zip(sales_list, date_dict.values())):\n",
    "    sales_list[idx] = math.fsum(list(j))\n",
    "\n",
    "sales_A, sales_B, sales_C, sales_D, sales_E, sales_F = sales_list"
   ]
  },
  {
   "cell_type": "markdown",
   "metadata": {},
   "source": [
    "蔬菜六大品类的总销售量直方图"
   ]
  },
  {
   "cell_type": "code",
   "execution_count": null,
   "metadata": {},
   "outputs": [],
   "source": [
    "# 示例数据\n",
    "categories = ['A', 'B', 'C', 'D', 'E', 'F']\n",
    "values = [198659.553, 41789.777, 91645.112, 22442.119, 76131.726, 40607.552]\n",
    "\n",
    "# 对数据进行缩放\n",
    "scaled_values = [v / 1000 for v in values]  # 将数据缩放到千的范围内\n",
    "\n",
    "# 创建一个新的图形对象，并设置图形的大小\n",
    "plt.figure(figsize=(12, 8), dpi=100)\n",
    "\n",
    "# 绘制柱状图，设置颜色，边框宽度和样式\n",
    "bars = plt.bar(categories, scaled_values, color='steelblue', edgecolor='black', linewidth=1.5, zorder=3)\n",
    "\n",
    "# 在每个柱子上添加原始数值标签\n",
    "for i, bar in enumerate(bars):\n",
    "    height = bar.get_height()\n",
    "    plt.text(bar.get_x() + bar.get_width() / 2, height + 2.5, f'{values[i]:.3f}', ha='center', fontsize=12, fontweight='bold', zorder=5)\n",
    "\n",
    "# 设置标题和标签\n",
    "plt.title('蔬菜六大品类总销售量分布情况', fontsize=16, fontweight='bold')\n",
    "plt.xlabel('六大蔬菜品类', fontsize=14)\n",
    "plt.ylabel('总销量 (千克)', fontsize=14)\n",
    "\n",
    "# 调整y轴范围和刻度\n",
    "plt.ylim(0, 200)\n",
    "\n",
    "# 使用科学计数法格式化y轴刻度\n",
    "def scientific_formatter(x, pos):\n",
    "    return f'{x*1000:.0e}'\n",
    "\n",
    "plt.gca().yaxis.set_major_formatter(FuncFormatter(scientific_formatter))\n",
    "\n",
    "# 显示网格线，只显示水平线\n",
    "plt.grid(axis='y', linestyle='--', linewidth=0.7, zorder=0)\n",
    "\n",
    "# 自动调整子图参数，使图表更紧凑\n",
    "plt.tight_layout()\n",
    "\n",
    "# 显示图表\n",
    "plt.show()"
   ]
  },
  {
   "cell_type": "markdown",
   "metadata": {},
   "source": [
    "蔬菜六大品类的总销售量饼状图"
   ]
  },
  {
   "cell_type": "code",
   "execution_count": null,
   "metadata": {},
   "outputs": [],
   "source": [
    "# 数据\n",
    "labels = ['花叶类', '花菜类', '辣椒类', '茄类', '食用菌', '水生根茎类']\n",
    "sizes = [sales_A, sales_B, sales_C, sales_D, sales_E, sales_F]      #占比\n",
    "colors = ['gold', 'yellowgreen', 'lightcoral', 'lightskyblue', 'lightgreen', 'lightpink']#颜色\n",
    "explode = (0.02, 0.02, 0.02, 0.02, 0.02, 0.02)  # 让扇区裂开\n",
    "\n",
    "# 绘制饼状图\n",
    "plt.figure(figsize=(8, 8))\n",
    "plt.pie(sizes, labels=labels, colors=colors, explode=explode, autopct='%1.1f%%', startangle=140, shadow=False)\n",
    "\n",
    "# 设置标题\n",
    "plt.title('Pie Chart with Exploded Slice')\n",
    "\n",
    "# 添加图例\n",
    "plt.legend(labels, loc=\"best\", bbox_to_anchor=(1.15, 1))\n",
    "\n",
    "# 调整图形的布局，使图例不重叠\n",
    "plt.tight_layout()\n",
    "\n",
    "# 显示图形\n",
    "plt.show()"
   ]
  }
 ],
 "metadata": {
  "kernelspec": {
   "display_name": "py311",
   "language": "python",
   "name": "python3"
  },
  "language_info": {
   "codemirror_mode": {
    "name": "ipython",
    "version": 3
   },
   "file_extension": ".py",
   "mimetype": "text/x-python",
   "name": "python",
   "nbconvert_exporter": "python",
   "pygments_lexer": "ipython3",
   "version": "3.11.9"
  }
 },
 "nbformat": 4,
 "nbformat_minor": 2
}
