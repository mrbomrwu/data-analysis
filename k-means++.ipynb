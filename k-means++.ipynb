{
 "cells": [
  {
   "cell_type": "code",
   "execution_count": 3,
   "metadata": {},
   "outputs": [],
   "source": [
    "import numpy as np\n",
    "import random\n",
    "import pandas as pd\n",
    "import math"
   ]
  },
  {
   "cell_type": "code",
   "execution_count": 4,
   "metadata": {},
   "outputs": [],
   "source": [
    "df = pd.read_excel(\n",
    "    'C:/Users/海棠微雨/Desktop/C题/附件1.xlsx',\n",
    "    sheet_name='Sheet1',\n",
    "    header=0,  # 第一行作为列名\n",
    "    usecols='A:D',  # 读取 A 到 D 列\n",
    "    index_col=None,  # 第一列作为行索引\n",
    "    skiprows=0,  # 不跳过\n",
    "    nrows=None  # 读取所有 行\n",
    ")\n",
    "df1 = pd.read_excel(\n",
    "    'C:/Users/海棠微雨/Desktop/C题/附件2.xlsx',\n",
    "    sheet_name='Sheet1',\n",
    "    header=0,  # 第一行作为列名\n",
    "    usecols='A:G',  # 读取 A 到 G 列\n",
    "    index_col=None,  # 第一列作为行索引\n",
    "    skiprows=0,  # 不跳过\n",
    "    nrows=None  # 读取所有 行\n",
    ")"
   ]
  },
  {
   "cell_type": "code",
   "execution_count": null,
   "metadata": {},
   "outputs": [],
   "source": [
    "def initialize_centroids(X, k):\n",
    "    # 选择第一个随机质心\n",
    "    centroids = [X[random.randint(0, X.shape[0]-1)]]\n",
    "\n",
    "    for _ in range(1, k):\n",
    "        # 计算每个点与最近质心的距离\n",
    "        distances = np.min([np.linalg.norm(x - centroid) for centroid in centroids] for x in X)\n",
    "        \n",
    "        # 使用距离的平方作为权重来选择下一个质心\n",
    "        probabilities = distances / np.sum(distances)\n",
    "        cumulative_probabilities = np.cumsum(probabilities)\n",
    "        \n",
    "        # 选择下一个质心\n",
    "        r = random.random()\n",
    "        for i, p in enumerate(cumulative_probabilities):\n",
    "            if r < p:\n",
    "                centroids.append(X[i])\n",
    "                break\n",
    "\n",
    "    return np.array(centroids)\n",
    "\n",
    "def kmeans_plus_plus(X, k, max_iters=100):\n",
    "    centroids = initialize_centroids(X, k)\n",
    "\n",
    "    for _ in range(max_iters):\n",
    "        # 分配每个点到最近的质心\n",
    "        labels = np.argmin(np.linalg.norm(X[:, np.newaxis] - centroids, axis=2), axis=1)\n",
    "        \n",
    "        # 重新计算质心\n",
    "        new_centroids = np.array([X[labels == j].mean(axis=0) for j in range(k)])\n",
    "        \n",
    "        # 如果质心不再变化，停止迭代\n",
    "        if np.all(centroids == new_centroids):\n",
    "            break\n",
    "\n",
    "        centroids = new_centroids\n",
    "\n",
    "    return centroids, labels\n"
   ]
  }
 ],
 "metadata": {
  "kernelspec": {
   "display_name": "py311",
   "language": "python",
   "name": "python3"
  },
  "language_info": {
   "codemirror_mode": {
    "name": "ipython",
    "version": 3
   },
   "file_extension": ".py",
   "mimetype": "text/x-python",
   "name": "python",
   "nbconvert_exporter": "python",
   "pygments_lexer": "ipython3",
   "version": "3.11.9"
  }
 },
 "nbformat": 4,
 "nbformat_minor": 2
}
