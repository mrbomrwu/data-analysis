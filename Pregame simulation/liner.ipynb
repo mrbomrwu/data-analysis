{
 "cells": [
  {
   "cell_type": "markdown",
   "metadata": {},
   "source": [
    "sklearn线性回归"
   ]
  },
  {
   "cell_type": "code",
   "execution_count": null,
   "metadata": {},
   "outputs": [],
   "source": [
    "import numpy as np\n",
    "from sklearn.linear_model import LinearRegression\n",
    "import pandas as pd\n",
    "import math"
   ]
  },
  {
   "cell_type": "code",
   "execution_count": null,
   "metadata": {},
   "outputs": [],
   "source": [
    "# 加载数据\n",
    "file_path = r'C:\\Users\\海棠微雨\\Desktop\\数据处理\\高钾.xlsx'  # 数据文件路径\n",
    "df = pd.read_excel(file_path, sheet_name='Sheet1')  # 从Excel文件中加载数据，读取名为'表单1'的工作表\n",
    "\n",
    "# 将空值赋值为0\n",
    "df = df.fillna(0)\n",
    "\n",
    "\n",
    "# 提取SiO2含量小于90%的行\n",
    "train_data = df[df['二氧化硅(SiO2)'] < 90]\n",
    "# 为每一行创建一个单独的列表并存储到一个列表中\n",
    "sio2_arrays = np.array([[value] for value in train_data['二氧化硅(SiO2)']])\n",
    "# 仅选择数值类型的列进行求和\n",
    "numeric_cols = train_data.select_dtypes(include=[np.number])\n",
    "# 计算每行的剩余数值之和并存储到列表中\n",
    "b_values = numeric_cols.drop(columns=['二氧化硅(SiO2)', 'y'])\n",
    "\n",
    "b_sum = [math.fsum(b_values.iloc[i]) for i in range(len(b_values))]\n",
    "\n",
    "# 取出某一行数据，例如取出第20行数据（索引从0开始）\n",
    "test_data = df.iloc[19, 1:-1].to_numpy().reshape(-1, 1)"
   ]
  },
  {
   "cell_type": "code",
   "execution_count": null,
   "metadata": {},
   "outputs": [],
   "source": [
    "# 示例数据\n",
    "X = np.array([1, 2, 3, 4, 5]).reshape(-1, 1)  # 自变量\n",
    "Z = np.array([2, 4, 6, 8, 10])               # 截距变量\n",
    "y = np.array([3, 6, 9, 12, 15])              # 因变量\n",
    "\n",
    "# 线性回归模型\n",
    "model = LinearRegression(fit_intercept=True)  # 自动计算截距\n",
    "model.fit(x, y - z)  # 用y减去Z来训练模型\n",
    "\n",
    "# 预测\n",
    "y_pred = model.predict(x) + z  # 加回截距Z\n",
    "\n",
    "# 输出回归系数和预测值\n",
    "print(\"回归系数:\", model.coef_[0])\n",
    "print(\"截距:\", model.intercept_)\n",
    "print(\"预测值:\", y_pred)\n"
   ]
  }
 ],
 "metadata": {
  "kernelspec": {
   "display_name": "py311",
   "language": "python",
   "name": "python3"
  },
  "language_info": {
   "codemirror_mode": {
    "name": "ipython",
    "version": 3
   },
   "file_extension": ".py",
   "mimetype": "text/x-python",
   "name": "python",
   "nbconvert_exporter": "python",
   "pygments_lexer": "ipython3",
   "version": "3.10.14"
  }
 },
 "nbformat": 4,
 "nbformat_minor": 2
}
