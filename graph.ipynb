{
 "cells": [
  {
   "cell_type": "code",
   "execution_count": 37,
   "metadata": {},
   "outputs": [],
   "source": [
    "import matplotlib.pyplot as plt\n",
    "import pandas as pd\n",
    "import matplotlib.font_manager as fm\n",
    "import math\n",
    "import numpy as np\n",
    "from scipy.interpolate import interp1d\n",
    "from scipy.interpolate import make_interp_spline\n",
    "\n",
    "# 设置中文字体\n",
    "plt.rcParams['font.sans-serif'] = ['SimHei']  # 使用黑体字体\n",
    "plt.rcParams['axes.unicode_minus'] = False  # 解决负号显示问题\n"
   ]
  },
  {
   "cell_type": "code",
   "execution_count": 2,
   "metadata": {},
   "outputs": [],
   "source": [
    "df = pd.read_excel(\n",
    "    'C:/Users/海棠微雨/Desktop/C题/附件1.xlsx',\n",
    "    sheet_name='Sheet1',\n",
    "    header=0,  # 第一行作为列名\n",
    "    usecols='A:D',  # 读取 A 到 D 列\n",
    "    index_col=None,  # 第一列作为行索引\n",
    "    skiprows=0,  # 不跳过\n",
    "    nrows=None  # 读取所有 行\n",
    ")"
   ]
  },
  {
   "cell_type": "code",
   "execution_count": 3,
   "metadata": {},
   "outputs": [],
   "source": [
    "df1 = pd.read_excel(\n",
    "    'C:/Users/海棠微雨/Desktop/C题/附件2.xlsx',\n",
    "    sheet_name='Sheet1',\n",
    "    header=0,  # 第一行作为列名\n",
    "    usecols='A:G',  # 读取 A 到 D 列\n",
    "    index_col=None,  # 第一列作为行索引\n",
    "    skiprows=0,  # 不跳过\n",
    "    nrows=None  # 读取所有 行\n",
    ")"
   ]
  },
  {
   "cell_type": "code",
   "execution_count": 4,
   "metadata": {},
   "outputs": [],
   "source": [
    "encoder = df['单品编码']\n",
    "name = df['分类名称']\n",
    "# 使用 zip() 函数将两个列表合并为一个字典\n",
    "my_dict = dict(zip(encoder, name))"
   ]
  },
  {
   "cell_type": "code",
   "execution_count": 5,
   "metadata": {},
   "outputs": [],
   "source": [
    "encoder1 = df1['单品编码']\n",
    "sales_date = df1['销售日期']\n",
    "Sales_status = df1['销售类型']\n",
    "Sales_kg = df1['销量(千克)']\n",
    "length = len(encoder1)"
   ]
  },
  {
   "cell_type": "code",
   "execution_count": 14,
   "metadata": {},
   "outputs": [],
   "source": [
    "def creat_dict(j, List):\n",
    "    Dict = {}\n",
    "    seen = set()\n",
    "    for i in List:\n",
    "        Key = str(i)\n",
    "        if Key[:j] not in seen:\n",
    "            Dict[Key[:j]] = []  # 你可以把对应的值设置为任意值\n",
    "            seen.add(Key[:j])\n",
    "    return Dict"
   ]
  },
  {
   "cell_type": "code",
   "execution_count": 18,
   "metadata": {},
   "outputs": [],
   "source": [
    "dict_sales = creat_dict(7, sales_date)\n",
    "s = ['一', '二', '三', '四', '五', '六', '七', '八', '九', '十', '十一', '十二']\n",
    "dict1 = creat_dict(2, s)\n",
    "date_sales = creat_dict(2, s)\n",
    "for i in range(length):\n",
    "    if Sales_status[i] == '销售':\n",
    "        a = sales_date[i]\n",
    "        dict_sales[str(sales_date[i])[:7]].append([my_dict[encoder1[i]], Sales_kg[i] ,1])\n",
    "    elif Sales_status[i] == '退货':\n",
    "        dict_sales[str(sales_date[i])[:7]].append([my_dict[encoder1[i]], Sales_kg[i] ,0])"
   ]
  },
  {
   "cell_type": "code",
   "execution_count": 23,
   "metadata": {},
   "outputs": [],
   "source": [
    "Num = 0\n",
    "sead = -1\n",
    "count = 0\n",
    "[A, B, C, D, E, F] = [[], [], [], [], [], []]\n",
    "for i in dict_sales.keys():\n",
    "    for j in dict_sales[i]:\n",
    "        count += 1\n",
    "        if j[0] == '花叶类':\n",
    "            A.append(j[1])\n",
    "        elif j[0] == '花菜类':\n",
    "            B.append(j[1])\n",
    "        elif j[0] == '辣椒类':\n",
    "            C.append(j[1])\n",
    "        elif j[0] == '茄类':\n",
    "            D.append(j[1])\n",
    "        elif j[0] == '食用菌':\n",
    "            E.append(j[1])\n",
    "        elif j[0] == '水生根茎类':\n",
    "            F.append(j[1])\n",
    "    Num += 1\n",
    "    if Num == 3:\n",
    "        sead += 1\n",
    "        Num = 0\n",
    "        dict1[s[sead]] = [math.fsum(A), math.fsum(B), math.fsum(C), math.fsum(D), math.fsum(E), math.fsum(F)]\n",
    "        date_sales[s[sead]] = [(math.fsum(A))/90, (math.fsum(B))/90, (math.fsum(C))/90, (math.fsum(D))/90, (math.fsum(E))/90, (math.fsum(F))/90]\n",
    "        count = 0\n",
    "        [A, B, C, D, E, F] = [[], [], [], [], [], []]"
   ]
  },
  {
   "cell_type": "markdown",
   "metadata": {},
   "source": [
    "A, B, C, D, E, F = '花叶类', '花菜类', '辣椒类', '茄类', '食用菌', '水生根茎类'"
   ]
  },
  {
   "cell_type": "code",
   "execution_count": 28,
   "metadata": {},
   "outputs": [],
   "source": [
    "data_A, data_B, data_C, data_D, data_E, data_F = [], [], [], [], [], []\n",
    "for i in date_sales.values():\n",
    "    data_A.append(i[0])\n",
    "    data_B.append(i[1])\n",
    "    data_C.append(i[2])\n",
    "    data_D.append(i[3])\n",
    "    data_E.append(i[4])\n",
    "    data_F.append(i[5])"
   ]
  },
  {
   "cell_type": "code",
   "execution_count": 40,
   "metadata": {},
   "outputs": [],
   "source": [
    "# 创建插值函数\n",
    "def creat_interp(x, y, x_smooth):\n",
    "    y_smooth = make_interp_spline(x, y)(x_smooth)\n",
    "    return y_smooth"
   ]
  },
  {
   "cell_type": "code",
   "execution_count": null,
   "metadata": {},
   "outputs": [],
   "source": [
    "# 给定的 y 值\n",
    "y_A, y_B, y_C, y_D, y_E, y_F = np.array(data_A), np.array(data_B), np.array(data_C), np.array(data_D), np.array(data_E), np.array(data_F)\n",
    "\n",
    "# x 轴的自定义标签（文字）\n",
    "x_labels = ['20年第3季度', '20年第4季度', '21年第1季度', '21年第2季度', '21年第3季度', '21年第4季度', '22年第1季度', '22年第2季度', '22年第3季度', '22年第4季度', '23年第1季度', '23年第2季度']\n",
    "x = np.arange(len(x_labels))  # x 轴的索引值\n",
    "\n",
    "\n",
    "# 生成更多的 x 值\n",
    "x_smooth = np.linspace(0, len(x_labels)-1, 500)\n",
    "A_smooth = creat_interp(x, y_A, x_smooth)\n",
    "B_smooth = creat_interp(x, y_B, x_smooth)\n",
    "C_smooth = creat_interp(x, y_C, x_smooth)\n",
    "D_smooth = creat_interp(x, y_D, x_smooth)\n",
    "E_smooth = creat_interp(x, y_E, x_smooth)\n",
    "F_smooth = creat_interp(x, y_F, x_smooth)\n",
    "\n",
    "# # 绘制曲线带图表\n",
    "# plt.plot(x_smooth, A_smooth, label='A', linestyle='-', marker='o', markersize=0.5, linewidth=0.5)\n",
    "# plt.plot(x_smooth, B_smooth, label='B', linestyle='--', marker='s', markersize=0.5, linewidth=0.5)\n",
    "# plt.plot(x_smooth, C_smooth, label='C', linestyle='-.', marker='^', markersize=0.5, linewidth=0.5)\n",
    "# plt.plot(x_smooth, D_smooth, label='D', linestyle=':', marker='d', markersize=0.5, linewidth=0.5)\n",
    "# plt.plot(x_smooth, E_smooth, label='E', linestyle='-', marker='v', markersize=0.5, linewidth=0.5)\n",
    "# plt.plot(x_smooth, F_smooth, label='F', linestyle='--', marker='x', markersize=0.5, linewidth=0.5)\n",
    "\n",
    "# 绘制曲线\n",
    "plt.plot(x_smooth, A_smooth, label='A')\n",
    "plt.plot(x_smooth, B_smooth, label='B')\n",
    "plt.plot(x_smooth, C_smooth, label='C')\n",
    "plt.plot(x_smooth, D_smooth, label='D')\n",
    "plt.plot(x_smooth, E_smooth, label='E')\n",
    "plt.plot(x_smooth, F_smooth, label='F')\n",
    "\n",
    "# 绘制 x=0 和 y=0 的轴线\n",
    "plt.axhline(0, color='black', linewidth=1)\n",
    "plt.axvline(0, color='black', linewidth=1)\n",
    "\n",
    "# 设置 x 轴和 y 轴的范围\n",
    "plt.xlim(left=0)\n",
    "plt.ylim(bottom=0)\n",
    "\n",
    "# 设置 x 轴的标签为文字\n",
    "plt.xticks(ticks=np.arange(len(x_labels)), labels=x_labels, rotation=75)\n",
    "# plt.scatter(x, y_A, color='red')  # 标出原始点\n",
    "plt.title(\"平均日销量\")\n",
    "plt.xlabel(\"季度\")\n",
    "plt.ylabel(\"销量\")\n",
    "plt.legend(loc='upper right', bbox_to_anchor=(1.15, 1))  # 调整图例位置\n",
    "\n",
    "# 显示更密集的网格线\n",
    "plt.grid(True, axis='y', which='both', linestyle='--')\n",
    "plt.minorticks_on()  # 启用次要刻度线\n",
    "plt.grid(True, axis='y', which='minor', linestyle=':', linewidth=0.5)  # 设置次要网格线样式\n",
    "\n",
    "plt.tight_layout()  # 自动调整子图参数\n",
    "plt.show()\n"
   ]
  }
 ],
 "metadata": {
  "kernelspec": {
   "display_name": "py311",
   "language": "python",
   "name": "python3"
  },
  "language_info": {
   "codemirror_mode": {
    "name": "ipython",
    "version": 3
   },
   "file_extension": ".py",
   "mimetype": "text/x-python",
   "name": "python",
   "nbconvert_exporter": "python",
   "pygments_lexer": "ipython3",
   "version": "3.11.9"
  }
 },
 "nbformat": 4,
 "nbformat_minor": 2
}
