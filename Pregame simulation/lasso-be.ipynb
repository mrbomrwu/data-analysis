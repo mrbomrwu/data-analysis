{
 "cells": [
  {
   "cell_type": "code",
   "execution_count": 1,
   "metadata": {},
   "outputs": [],
   "source": [
    "from sklearn.linear_model import Lasso, Ridge\n",
    "import numpy as np\n",
    "import random\n",
    "from sklearn.linear_model import SGDRegressor, LinearRegression\n",
    "import pandas as pd\n",
    "from sklearn.preprocessing import MinMaxScaler\n",
    "\n",
    "np.set_printoptions(suppress=True)"
   ]
  },
  {
   "cell_type": "code",
   "execution_count": 2,
   "metadata": {},
   "outputs": [],
   "source": [
    "# 加载数据\n",
    "file_path = r'C:\\Users\\海棠微雨\\Desktop\\数据处理\\铅钡.xlsx'  # 数据文件路径\n",
    "df = pd.read_excel(file_path, sheet_name='Sheet1')  # 从Excel文件中加载数据，读取名为'表单1'的工作表\n",
    "\n",
    "# 将空值赋值为0\n",
    "df = df.fillna(0)\n",
    "# 提取特征矩阵X（去除第一列和最后一列）\n",
    "X = df.iloc[:, 1:-1].values\n",
    "\n",
    "# 提取标签y（最后一列）\n",
    "y = df.iloc[:, -1].values\n",
    "\n",
    "# 归一化特征矩阵X\n",
    "scaler = MinMaxScaler()\n",
    "X_normalized = scaler.fit_transform(X)\n"
   ]
  },
  {
   "cell_type": "code",
   "execution_count": 8,
   "metadata": {},
   "outputs": [
    {
     "name": "stdout",
     "output_type": "stream",
     "text": [
      "Selected Features: Index(['二氧化硅(SiO2)', '氧化铝(Al2O3)', '氧化铜(CuO)', '五氧化二磷(P2O5)', '氧化锶(SrO)',\n",
      "       '二氧化硫(SO2)'],\n",
      "      dtype='object')\n",
      "[ 3.77984459 -0.          0.          0.          0.          0.39835072\n",
      "  0.          0.43791905  0.         -0.         -1.28338187  2.99161314\n",
      "  0.          2.96733562]\n",
      "94.3897417708749\n"
     ]
    }
   ],
   "source": [
    "#稀松性质,将一部分系数变成0\n",
    "lasso = Lasso(alpha=0.05)\n",
    "lasso.fit(X_normalized, y)\n",
    "\n",
    "# 输出非零系数对应的特征\n",
    "selected_features = df.columns[1:-1][lasso.coef_ != 0]\n",
    "print(\"Selected Features:\", selected_features)\n",
    "\n",
    "print(lasso.coef_)\n",
    "print(lasso.intercept_)"
   ]
  }
 ],
 "metadata": {
  "kernelspec": {
   "display_name": "new_env",
   "language": "python",
   "name": "python3"
  },
  "language_info": {
   "codemirror_mode": {
    "name": "ipython",
    "version": 3
   },
   "file_extension": ".py",
   "mimetype": "text/x-python",
   "name": "python",
   "nbconvert_exporter": "python",
   "pygments_lexer": "ipython3",
   "version": "3.10.14"
  }
 },
 "nbformat": 4,
 "nbformat_minor": 2
}
